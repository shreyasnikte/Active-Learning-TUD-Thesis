{
 "cells": [
  {
   "cell_type": "markdown",
   "metadata": {},
   "source": [
    "# Thesis Notes\n"
   ]
  },
  {
   "cell_type": "markdown",
   "metadata": {},
   "source": [
    "---"
   ]
  },
  {
   "cell_type": "markdown",
   "metadata": {},
   "source": [
    "## Milestones"
   ]
  },
  {
   "cell_type": "markdown",
   "metadata": {},
   "source": [
    "1. **Weather data** cleaning and preprocessing --- *Done*\n",
    "- **Aggregate Consumption** Model --- *Done*\n",
    "- Get **baseline** accuracy of supervised models --- *Done*\n",
    "- Create a **Simulator**\n",
    "- **Unsupervised classification** - Tariff\n",
    "- Implement **Active learning** for query synthesis\n",
    "- **Clustering of users** based on survey questions"
   ]
  },
  {
   "cell_type": "markdown",
   "metadata": {},
   "source": [
    "---"
   ]
  },
  {
   "cell_type": "markdown",
   "metadata": {},
   "source": [
    "## Meeting 13 Feb 2019\n",
    "\n",
    "#### Questions\n",
    "\n",
    "- Weather model features may not be accurate (see the temperature influence on the global consumption model)\n",
    "- Query synthesis/ stream based\n",
    "\n",
    "#### Summary\n",
    "\n",
    "- Create a simulator as shown in the image below. \n",
    "- Have a working prototype on Feb 25\n",
    "- Discussed the idea of two active learning models as different chapters of MSc thesis (1. predict tariff from energy usage pattern, 2. Predict usage pattern from tariff). *This would be implemented after having a working simulator*\n",
    "\n",
    "![Blackboard snapshot](../misc/simulator_discussion.jpg \"Simulator idea\")\n",
    "\n",
    "![Blackboard 1](../misc/flow.jpg \"Simulator flow\")\n",
    "\n",
    "\n",
    "#### Updates:\n"
   ]
  }
 ],
 "metadata": {
  "kernelspec": {
   "display_name": "Python 3",
   "language": "python",
   "name": "python3"
  },
  "language_info": {
   "codemirror_mode": {
    "name": "ipython",
    "version": 3
   },
   "file_extension": ".py",
   "mimetype": "text/x-python",
   "name": "python",
   "nbconvert_exporter": "python",
   "pygments_lexer": "ipython3",
   "version": "3.6.7"
  }
 },
 "nbformat": 4,
 "nbformat_minor": 2
}
