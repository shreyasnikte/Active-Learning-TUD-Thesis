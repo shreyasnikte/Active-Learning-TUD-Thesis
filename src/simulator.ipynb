{
 "cells": [
  {
   "cell_type": "code",
   "execution_count": 2,
   "metadata": {},
   "outputs": [],
   "source": [
    "import numpy as np\n",
    "import pandas as pd\n",
    "import random\n",
    "import time\n",
    "\n",
    "from sklearn import preprocessing\n",
    "from sklearn.model_selection import train_test_split\n",
    "from sklearn.metrics import mean_squared_error, mean_absolute_error\n",
    "from math import sqrt\n",
    "import xgboost as xgb\n",
    "\n",
    "\n",
    "\n",
    "import seaborn as sns\n",
    "%matplotlib inline\n",
    "\n",
    "from datetime import datetime, timedelta, date"
   ]
  },
  {
   "cell_type": "markdown",
   "metadata": {},
   "source": [
    "## Structure of the algorithm\n",
    "\n",
    "The following code is divided in two classes namely, \n",
    "\n",
    "- ConsumptionModel\n",
    "- Simulator\n",
    "\n",
    "Consumption model primarily consists of the functions related to the basic machine learning model which predicts the dynamic user behaviour"
   ]
  },
  {
   "cell_type": "code",
   "execution_count": 3,
   "metadata": {},
   "outputs": [],
   "source": [
    "# The dict 'params' consists of all the parameters used in the simulation software for ease of alteration\n",
    "params = {\n",
    "#         Set the regression model related parameters\n",
    "          'train_start_dt':'2013-01',\n",
    "          'train_stop_dt':'2013-09',\n",
    "          'y_variable': 'trial_d',\n",
    "          'X_variables':['trial_n', 'low', 'normal', 'high', 'WIND_DIRECTION', 'WIND_SPEED', 'VISIBILITY', 'MSL_PRESSURE',\n",
    "                         'AIR_TEMPERATURE', 'DEWPOINT', 'WETB_TEMP', 'STN_PRES', 'WMO_HR_SUN_DUR', 'hour', 'day'],\n",
    "    \n",
    "#         Set XGBoost regression parameters (for consumption model)\n",
    "          'n_estimators': 50,\n",
    "          'early_stopping_rounds': 50,  #stop if 50 consequent rounds without decrease of error\n",
    "          'verbose': False,             # Change verbose to True if you want to see it train\n",
    "          'nthread': 4,\n",
    "    \n",
    "#         Set simulator parameters to default values\n",
    "          'season': 0,\n",
    "          'day_of_week': 0,\n",
    "          'special_event': 0,\n",
    "          'tariff_policy':[],\n",
    "    \n",
    "#         Set Occupant behaviour dynamics\n",
    "          'user_engagement': 0,     # Set the % of users who are willing to engage in the experiments\n",
    "          'participation': 0,       # Set the % of users who will be available to participate in specific experiment\n",
    "          'user_latency': 0         # Set the values which correspond to real life participation delay for users \n",
    "         }"
   ]
  },
  {
   "cell_type": "code",
   "execution_count": 4,
   "metadata": {},
   "outputs": [],
   "source": [
    "class ConsumptionModel(object):\n",
    "    def __init__(self, df, params):\n",
    "        self.df = df\n",
    "        self.params = params\n",
    "#         some variables\n",
    "\n",
    "    def prep_data(self):\n",
    "        self.df = self.df.dropna().copy()\n",
    "        one_hot= pd.get_dummies(self.df['tariff'])\n",
    "        one_hot_renamed = one_hot.rename(index=str, columns={0.0399:'low', 0.1176:'normal', 0.672:'high'}) \n",
    "        self.df = self.df.join(one_hot_renamed).drop('tariff', axis=1)\n",
    "        \n",
    "        self.df[\"hour\"] = self.df.index.hour\n",
    "        self.df[\"day\"] = self.df.index.day\n",
    "        self.df[\"month\"] = self.df.index.month\n",
    "\n",
    "\n",
    "    \n",
    "    def train(self):\n",
    "#         Complete the xgboost model on 2013 data\n",
    "        self.X_train = self.df.loc[self.params[\"train_start_dt\"]:self.params[\"train_stop_dt\"],self.params[\"X_variables\"]]\n",
    "        self.y_train = self.df.loc[self.params[\"train_start_dt\"]:self.params[\"train_stop_dt\"],self.params[\"y_variable\"]]\n",
    "        self.X_test = self.df.loc[self.params[\"train_stop_dt\"]:,self.params[\"X_variables\"]]\n",
    "        self.y_test = self.df.loc[self.params[\"train_stop_dt\"]:,self.params[\"y_variable\"]]\n",
    "\n",
    "        self.xg_reg = xgb.XGBRegressor(n_estimators=self.params['n_estimators'], nthread = self.params[\"nthread\"])\n",
    "        self.xg_reg.fit(self.X_train, self.y_train,\n",
    "                        eval_set=[(self.X_train, self.y_train), (self.X_test, self.y_test)],\n",
    "                        early_stopping_rounds = self.params[\"early_stopping_rounds\"],\n",
    "                        verbose = self.params[\"verbose\"])\n",
    "\n",
    "#         Get feature importance chart\n",
    "        return xgb.plot_importance(self.xg_reg, height=0.9) # Plot feature importance\n",
    "      \n",
    "\n",
    "    def test(self, X_test):\n",
    "#         test the data points. Get the predictions\n",
    "        self.preds = self.xg_reg.predict(X_test)\n",
    "\n",
    "    def entropy(self):\n",
    "#         get entropy of each data point nad return the entropy dataframe\n",
    "        pass\n"
   ]
  },
  {
   "cell_type": "code",
   "execution_count": null,
   "metadata": {},
   "outputs": [],
   "source": [
    "# from datetime import date\n",
    "# import random\n",
    "\n",
    "# start_dt = date.today().replace(day=1, month=1, year=2013).toordinal()\n",
    "# end_dt = date.today().toordinal()\n",
    "# random_day = date.fromordinal(random.randint(start_dt, end_dt))\n",
    "# print(start_dt)"
   ]
  },
  {
   "cell_type": "code",
   "execution_count": null,
   "metadata": {},
   "outputs": [],
   "source": [
    "# df_final.index[1000].dayofweek"
   ]
  },
  {
   "cell_type": "code",
   "execution_count": null,
   "metadata": {},
   "outputs": [],
   "source": [
    "### Playground cell\n",
    "\n",
    "# month = 3\n",
    "# dow = 4\n",
    "\n",
    "# random.choice(df_final.loc[(df_final.index.month == month) & (df_final.index.dayofweek == dow), :].index.year)\n",
    "# day = 4\n",
    "# year = 2013\n",
    "# # timestamp = sample.index.strftime(\"%Y-%m-%d\").format() #pd.to_datetime(sample.index.strftime(\"%Y-%m-%d\"))\n",
    "# # df_final.loc[timestamp,:]\n",
    "# # timestamp = sample.index.strftime(\"%Y-%m-%d\").format()\n",
    "# # sample.values\n",
    "# # a = \"2013-03-22\"\n",
    "# date = str(year)+\"-\"+str(month)+\"-\"+str(day)\n",
    "# df_final.loc[a,:]\n",
    "# # len(df_final.columns)"
   ]
  },
  {
   "cell_type": "code",
   "execution_count": 12,
   "metadata": {},
   "outputs": [],
   "source": [
    "class Simulator:\n",
    "    \n",
    "    def __init__(self, df, params):\n",
    "        self.params = params\n",
    "        self.df = df\n",
    "        self.spring = [3, 4, 5]\n",
    "        self.summer = [6, 7, 8]\n",
    "        self.autumn = [9, 10, 11]\n",
    "        self.winter = [1, 2, 12]\n",
    "\n",
    "\n",
    "    def select_day(self):        \n",
    "#         Select the season\n",
    "        if self.params[\"season\"] == 0:\n",
    "            month = random.randrange(1,12)\n",
    "        elif self.params[\"season\"] == 1:\n",
    "            month = random.choice(self.spring)\n",
    "        elif self.params[\"season\"] == 2:\n",
    "            month = random.choice(self.summer)\n",
    "        elif self.params[\"season\"] == 3:\n",
    "            month = random.choice(self.autumn)\n",
    "        elif self.params[\"season\"] == 4:\n",
    "            month = random.choice(self.winter)\n",
    "\n",
    "            \n",
    "#         Select the day of week\n",
    "        if self.params[\"day_of_week\"] == 0:\n",
    "#             Select random day\n",
    "            dow = random.randrange(0,7)\n",
    "        else:\n",
    "            dow = self.params[\"day_of_week\"] - 1\n",
    "            \n",
    "#         Select the random day from the entries which satisfy above conditions\n",
    "        shortlist = self.df.loc[(self.df.index.month == month) & (self.df.index.dayofweek == dow), :].index\n",
    "        day = random.choice(shortlist.day.values)\n",
    "        year = random.choice(shortlist.year.values)\n",
    "        timestamp = str(year)+\"-\"+str(month)+\"-\"+str(day)\n",
    "        self.sample = self.df.loc[timestamp,:]\n",
    "        \n",
    "        \n",
    "        \n",
    "    def random_day(self):\n",
    "        shortlist = self.df.sample(axis = 0).index\n",
    "        day = random.choice(shortlist.day.values)\n",
    "        month = random.choice(shortlist.month.values)\n",
    "        year = random.choice(shortlist.year.values)\n",
    "        timestamp = str(year)+\"-\"+str(month)+\"-\"+str(day)\n",
    "        self.sample = self.df.loc[timestamp,:]\n",
    "        \n",
    "        \n",
    "        \n",
    "    def auto_noise_addition(self, levels, constraints):\n",
    "#         select the random users and their behaviour with random latency\n",
    "\n",
    "        for instances in constraints[\"\"]\n",
    "        self.noisy_tariff[\"h1_start\"] = random.sample(xrange(constraints[\"h1_start\"]*constraints[\"freq_per_hr\"]-2, constraints[\"h1_start\"]*constraints[\"freq_per_hr\"]+5), len(self.df.columns))\n",
    "        self.noisy_tariff[\"h1_end\"] = random.sample(xrange(constraints[\"h1_end\"]*constraints[\"freq_per_hr\"]-4, constraints[\"h1_end\"]*constraints[\"freq_per_hr\"]+2), len(self.df.columns))\n",
    "    \n",
    "\n",
    "    def tariff_policy(self, levels, constraints):\n",
    "#         use variables from auto_noise_addition and input variables of this function to create a tariff policy \n",
    "#         for each participating user **REQUIRES TIME AND BRAIN**\n",
    "        self.auto_noise_addition(levels,contraints)\n",
    "        \n",
    "    def run(self):\n",
    "#         FOR EACH USER, call test function of consumption model, get modified behaviour, return original data point and modified data point\n",
    "        pass"
   ]
  },
  {
   "cell_type": "code",
   "execution_count": null,
   "metadata": {},
   "outputs": [],
   "source": [
    "sim = Simulator(df_final,params)\n",
    "sim.random_day()\n",
    "sim.sample"
   ]
  },
  {
   "cell_type": "code",
   "execution_count": null,
   "metadata": {},
   "outputs": [],
   "source": [
    "# Make a dictionary similar to but not limited to following dictionary\n",
    "# selection_vars = {\"season\":\"1-to-4\", \"DoW\":\"1-to-7\", \"special_day\":\"select holiday/event\", \"tariff_policy\":\"24-hour-policy-list\"}\n",
    "\n",
    "class select_next(object):\n",
    "    \n",
    "    def __init__(self, params):\n",
    "        self.params = {\"season\":, \"DoW\":, \"special_event\":, \"tariff_policy\":}\n",
    "    \n",
    "    \n",
    "    def random_day(self):\n",
    "#         select the variables randomly, put them in self.datetime dictionary and call _datetime function \n",
    "\n",
    "    \n",
    "    \n",
    "    def specific_day(self, season, dow, event):\n",
    "#         add the provided variables and call _datetime function also include the randomness\n",
    "        \n",
    "    def select_day(self, datetime):\n",
    "#         add the provided variables and call _datetime function also include the randomness\n",
    "#         return the selected datetime details\n",
    "        \n",
    "    def tariff_policy(self, levels, constraints):\n",
    "        \n",
    "        \n",
    "    "
   ]
  },
  {
   "cell_type": "code",
   "execution_count": 7,
   "metadata": {},
   "outputs": [],
   "source": [
    "df=pd.read_csv('../mod_datasets/aggregate_consumption.csv', sep=',', header=0, index_col=0, parse_dates=['GMT'], low_memory=False)\n",
    "df = df.drop_duplicates()\n",
    "df_midas=pd.read_csv('../mod_datasets/midas_weather.csv', sep=',', header=0, index_col=0, parse_dates=['GMT'], low_memory=False)\n",
    "df_midas_rs = df_midas.resample('30T').mean()\n",
    "df_interpolated = df_midas_rs.interpolate(method='linear')\n",
    "df_weather = df_interpolated.loc['2013-01':'2013-12',:]\n",
    "df_final = pd.concat([df,df_weather], axis=1)"
   ]
  },
  {
   "cell_type": "code",
   "execution_count": 8,
   "metadata": {},
   "outputs": [
    {
     "data": {
      "text/plain": [
       "<matplotlib.axes._subplots.AxesSubplot at 0x7f57b789a390>"
      ]
     },
     "execution_count": 8,
     "metadata": {},
     "output_type": "execute_result"
    },
    {
     "data": {
      "image/png": "[encoded data removed]",
      "text/plain": [
       "<Figure size 432x288 with 1 Axes>"
      ]
     },
     "metadata": {
      "needs_background": "light"
     },
     "output_type": "display_data"
    }
   ],
   "source": [
    "consumption_model = ConsumptionModel(df_final, params)\n",
    "consumption_model.prep_data()\n",
    "consumption_model.train()"
   ]
  },
  {
   "cell_type": "code",
   "execution_count": 9,
   "metadata": {},
   "outputs": [
    {
     "data": {
      "text/plain": [
       "<matplotlib.axes._subplots.AxesSubplot at 0x7f57b7981278>"
      ]
     },
     "execution_count": 9,
     "metadata": {},
     "output_type": "execute_result"
    },
    {
     "data": {
      "image/png": "[encoded data removed]",
      "text/plain": [
       "<Figure size 432x288 with 2 Axes>"
      ]
     },
     "metadata": {
      "needs_background": "light"
     },
     "output_type": "display_data"
    }
   ],
   "source": [
    "corr = df_final.corr()\n",
    "sns.heatmap(corr,\n",
    "            xticklabels=corr.columns,\n",
    "            yticklabels=corr.columns)"
   ]
  }
 ],
 "metadata": {
  "kernelspec": {
   "display_name": "Python 3",
   "language": "python",
   "name": "python3"
  },
  "language_info": {
   "codemirror_mode": {
    "name": "ipython",
    "version": 3
   },
   "file_extension": ".py",
   "mimetype": "text/x-python",
   "name": "python",
   "nbconvert_exporter": "python",
   "pygments_lexer": "ipython3",
   "version": "3.6.7"
  }
 },
 "nbformat": 4,
 "nbformat_minor": 2
}
