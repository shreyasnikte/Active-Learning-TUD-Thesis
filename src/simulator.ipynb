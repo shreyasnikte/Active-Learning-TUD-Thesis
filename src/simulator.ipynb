{
 "cells": [
  {
   "cell_type": "code",
   "execution_count": 3,
   "metadata": {},
   "outputs": [],
   "source": [
    "import numpy as np\n",
    "import pandas as pd\n",
    "import time\n",
    "\n",
    "from datetime import datetime, timedelta"
   ]
  },
  {
   "cell_type": "markdown",
   "metadata": {},
   "source": [
    "## Structure of the algorithm\n",
    "\n",
    "The following code is divided in two classes namely, \n",
    "\n",
    "- ConsumptionModel\n",
    "- Simulator\n",
    "\n",
    "Consumption model primarily consists of the functions related to the basic machine learning model which predicts the dynamic user behaviour"
   ]
  },
  {
   "cell_type": "code",
   "execution_count": null,
   "metadata": {},
   "outputs": [],
   "source": [
    "class ConsumptionModel(object):\n",
    "    def __init__(self):\n",
    "#         some variables\n",
    "    \n",
    "    def train(self, X, y, hyperparameters):\n",
    "#         complete the xgboost model on 2013 data\n",
    "    \n",
    "    def test(self, X, y):\n",
    "#         test the data points\n",
    "\n",
    "    def entropy(self, y):\n",
    "#         get entropy of each data point nad return the entropy dataframe\n",
    "\n",
    "\n",
    "\n",
    "\n",
    "    "
   ]
  },
  {
   "cell_type": "code",
   "execution_count": null,
   "metadata": {},
   "outputs": [],
   "source": [
    "class Simulator:\n",
    "    \n",
    "    def __init__(self):\n",
    "        self.datetime = {\"season\":, \"DoW\":, \"special_event\":, \"tariff_policy\":}\n",
    "        self.df = pd.DataFrame()\n",
    "        self.user_engagement = *randomly select users of specific percentage*\n",
    "        self.participation = *randomly select users of specific percentage*\n",
    "        self.user_latency = *select random variable for smoothing function*\n",
    "\n",
    "    def select_day(self, datetime):\n",
    "#         add the provided variables and call _datetime function also include the randomness\n",
    "#         return the selected datetime details\n",
    "\n",
    "        \n",
    "    def auto_noise_addition(self):\n",
    "#         select the random users and their behaviour with random latency\n",
    "\n",
    "\n",
    "    def tariff_policy(self, levels, constraints):\n",
    "#         use variables from auto_noise_addition and input variables of this function to create a tariff policy \n",
    "#         for each participating user **REQUIRES TIME AND BRAIN**\n",
    "\n",
    "        \n",
    "    def run(self, df_n):\n",
    "#         FOR EACH USER, call test function of consumption model, get modified behaviour, return original data point and modified data point\n",
    "        "
   ]
  },
  {
   "cell_type": "code",
   "execution_count": null,
   "metadata": {},
   "outputs": [],
   "source": [
    "# Make a dictionary similar to but not limited to following dictionary\n",
    "# selection_vars = {\"season\":\"1-to-4\", \"DoW\":\"1-to-7\", \"special_day\":\"select holiday/event\", \"tariff_policy\":\"24-hour-policy-list\"}\n",
    "\n",
    "class select_next(object):\n",
    "    \n",
    "    def __init__(self):\n",
    "        self.datetime = {\"season\":, \"DoW\":, \"special_event\":, \"tariff_policy\":}\n",
    "    \n",
    "    \n",
    "    def random_day(self):\n",
    "#         select the variables randomly, put them in self.datetime dictionary and call _datetime function \n",
    "\n",
    "    \n",
    "    \n",
    "    def specific_day(self, season, dow, event):\n",
    "#         add the provided variables and call _datetime function also include the randomness\n",
    "        \n",
    "    def select_day(self, datetime):\n",
    "#         add the provided variables and call _datetime function also include the randomness\n",
    "#         return the selected datetime details\n",
    "        \n",
    "    def tariff_policy(self, levels, constraints):\n",
    "        \n",
    "        \n",
    "    "
   ]
  }
 ],
 "metadata": {
  "kernelspec": {
   "display_name": "Python 3",
   "language": "python",
   "name": "python3"
  },
  "language_info": {
   "codemirror_mode": {
    "name": "ipython",
    "version": 3
   },
   "file_extension": ".py",
   "mimetype": "text/x-python",
   "name": "python",
   "nbconvert_exporter": "python",
   "pygments_lexer": "ipython3",
   "version": "3.6.7"
  }
 },
 "nbformat": 4,
 "nbformat_minor": 2
}
