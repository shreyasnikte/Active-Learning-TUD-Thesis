{
 "cells": [
  {
   "cell_type": "markdown",
   "metadata": {},
   "source": [
    "# Thesis Notes\n"
   ]
  },
  {
   "cell_type": "markdown",
   "metadata": {},
   "source": [
    "---"
   ]
  },
  {
   "cell_type": "markdown",
   "metadata": {},
   "source": [
    "## Milestones"
   ]
  },
  {
   "cell_type": "markdown",
   "metadata": {},
   "source": [
    "1. **Weather data** cleaning and preprocessing --- *Done*\n",
    "- **Aggregate Consumption** Model --- *Done*\n",
    "- Get **baseline** accuracy of supervised models --- *Done*\n",
    "- Create a **Simulator**\n",
    "- **Unsupervised classification** - Tariff\n",
    "- Implement **Active learning** for query synthesis\n",
    "- **Clustering of users** based on survey questions"
   ]
  },
  {
   "cell_type": "markdown",
   "metadata": {},
   "source": [
    "---"
   ]
  },
  {
   "cell_type": "markdown",
   "metadata": {},
   "source": [
    "## Meeting 13 Feb 2019\n",
    "\n",
    "#### Questions\n",
    "\n",
    "- Weather model features may not be accurate (see the temperature influence on the global consumption model)\n",
    "- Query synthesis/ stream based\n",
    "\n",
    "#### Summary\n",
    "\n",
    "- Create a simulator as shown in the image below. \n",
    "- Have a working prototype on Feb 25\n",
    "- Discussed the idea of two active learning models as different chapters of MSc thesis (1. predict tariff from energy usage pattern, 2. Predict usage pattern from tariff). *This would be implemented after having a working simulator*\n",
    "\n",
    "![Blackboard snapshot](../misc/simulator_discussion.jpg \"Simulator idea\")\n",
    "\n",
    "![Blackboard 1](../misc/flow.jpg \"Simulator flow\")\n",
    "\n",
    "\n",
    "#### Updates:\n",
    "\n",
    "Completed the basic simluator before the next meeting\n"
   ]
  },
  {
   "cell_type": "markdown",
   "metadata": {},
   "source": [
    "## Meeting 25 Feb 2019\n",
    "\n",
    "#### Questions:\n",
    "- Damped predictions by the xgboost consumption model. How to work on the issue?\n",
    "- what to do next?\n",
    "\n",
    "#### Summary:\n",
    "\n",
    "- Discussed the issue of damping of prediction values. As the machine learning model can be biased due to its reliance on two different user datatsets (consumption_n, consumption_d), we decided the better way would be to manually offset the user consumption. This implementation would solve the problem of the bias in the predictions of user behaviour\n",
    "- The supervisor suggested me to write down a document on the simulator. I am planning to provide the document before the end of the next week. \n",
    "- Discussed briefly about covariate shift. Need to read more about the concept before the next meeting.\n",
    "- Also discussed the concept of importance weighting\n",
    "- The next step after rectifying the simulator is to write down the final idea of the problem to be solved.\n",
    "\n",
    "#### Update:"
   ]
  }
 ],
 "metadata": {
  "kernelspec": {
   "display_name": "Python 3",
   "language": "python",
   "name": "python3"
  },
  "language_info": {
   "codemirror_mode": {
    "name": "ipython",
    "version": 3
   },
   "file_extension": ".py",
   "mimetype": "text/x-python",
   "name": "python",
   "nbconvert_exporter": "python",
   "pygments_lexer": "ipython3",
   "version": "3.6.7"
  }
 },
 "nbformat": 4,
 "nbformat_minor": 2
}
