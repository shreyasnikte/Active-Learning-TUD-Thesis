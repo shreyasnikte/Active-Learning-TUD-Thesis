{
 "cells": [
  {
   "cell_type": "code",
   "execution_count": 115,
   "metadata": {},
   "outputs": [],
   "source": [
    "import numpy as np\n",
    "import pandas as pd\n",
    "import random\n",
    "import time\n",
    "from multiprocessing import Pool\n",
    "\n",
    "from sklearn import preprocessing\n",
    "from sklearn.model_selection import train_test_split\n",
    "from sklearn.metrics import mean_squared_error, mean_absolute_error\n",
    "from sklearn.ensemble import RandomForestRegressor\n",
    "from math import sqrt\n",
    "import xgboost as xgb\n",
    "\n",
    "# For data visualization\n",
    "import matplotlib.pyplot as plt\n",
    "# from pandas.tools.plotting import autocorrelation_plot\n",
    "from bokeh.io import output_notebook, show\n",
    "from bokeh.models import Title\n",
    "from bokeh.plotting import figure, output_file, show\n",
    "\n",
    "import seaborn as sns\n",
    "%matplotlib inline\n",
    "\n",
    "from datetime import datetime, timedelta, date\n",
    "from tqdm import tqdm            #for .py version\n",
    "# from tqdm import tqdm_notebook as tqdm     # for .ipynb version\n",
    "\n",
    "pd.options.mode.chained_assignment = None  # default='warn'"
   ]
  },
  {
   "cell_type": "code",
   "execution_count": 116,
   "metadata": {},
   "outputs": [],
   "source": [
    "# The dict 'params' consists of all the parameters used in the simulation software for ease of alteration\n",
    "params = {\n",
    "#         Set the regression model related parameters\n",
    "          'train_start_dt':'2013-01',\n",
    "          'train_stop_dt':'2013-12',\n",
    "          'y_variable': 'trial_d',\n",
    "          'X_variables':['trial_n', 'low', 'normal', 'high', 'WIND_DIRECTION',\n",
    "                         'WIND_SPEED', 'VISIBILITY', 'MSL_PRESSURE',\n",
    "                         'AIR_TEMPERATURE', 'DEWPOINT', 'WETB_TEMP', \n",
    "                         'STN_PRES', 'WMO_HR_SUN_DUR', 'hour', 'day'],\n",
    "    \n",
    "#         Set XGBoost regression parameters (for consumption model)\n",
    "          'n_estimators': 2000,\n",
    "          'early_stopping_rounds': 50,  #stop if 50 consequent rounds without decrease of error\n",
    "          'verbose': False,             # Change verbose to True if you want to see it train\n",
    "          'nthread': 4,\n",
    "    \n",
    "#         Set simulator parameters to default values\n",
    "          'season': 3,\n",
    "          'day_of_week': 3,\n",
    "          'special_event': 0,\n",
    "          'tariff_policy':[],\n",
    "    \n",
    "#         Set Occupant behaviour dynamics\n",
    "          'active_users': 0.1,#.5,     # Set the % of users who are willing to engage in the experiments\n",
    "          'avail_users': 0.1,#.5,       # Set the % of users who will be available to participate in specific experiment\n",
    "          'user_latency': 0,         # Set the values which correspond to real life participation delay for users \n",
    "          'frac_users_exp':1,      # Fraction of users selected for a particular trial\n",
    "          \n",
    "#         Set parameters for active learning\n",
    "          'total_iterations':5,\n",
    "          'total_experiments':500,#100, #Total number of experiments allowed per trial\n",
    "          'init_samples': 30,#50,      # Set the initial random samples to be chosen\n",
    "          'test_size':.3,           # Set test data size for splitting data in train-test\n",
    "          'X_var_activeL':['dow', \n",
    "                           'season', \n",
    "                           'hod', \n",
    "                           'AIR_TEMPERATURE', \n",
    "                           'DEWPOINT', \n",
    "                           'MSL_PRESSURE', \n",
    "                           'STN_PRES',\n",
    "                           'VISIBILITY', \n",
    "                           'WETB_TEMP',\n",
    "                           'WIND_DIRECTION',\n",
    "                           'WIND_SPEED',\n",
    "                           'WMO_HR_SUN_DUR',\n",
    "                           'hod', \n",
    "                           'month',\n",
    "                           'tariff'],\n",
    "          'X_var_supervised':['dow', \n",
    "                           'season', \n",
    "                           'hod', \n",
    "                           'AIR_TEMPERATURE', \n",
    "                           'DEWPOINT', \n",
    "                           'MSL_PRESSURE', \n",
    "                           'STN_PRES',\n",
    "                           'VISIBILITY', \n",
    "                           'WETB_TEMP',\n",
    "                           'WIND_DIRECTION',\n",
    "                           'WIND_SPEED',\n",
    "                           'WMO_HR_SUN_DUR',\n",
    "                           'hod', \n",
    "                           'month',\n",
    "                           'tariff_original'],\n",
    "    \n",
    "          'y_var_activeL':['response', 'expected']\n",
    "         }"
   ]
  },
  {
   "cell_type": "markdown",
   "metadata": {},
   "source": [
    "## Generator\n",
    "This class creates a new data point on request. The new datapoint can be constrained to some calendar parameters like day-of-week and season-of-year. The following cell randomly selects the date index which follows the input constraints and generates a 'new' datapoint by aggregating the data of multiple LCL energy users.\n",
    "\n",
    "Also the tariff policy and user response for that particular day is decided by modelling stochastic behaviour of users. Therefore, each user's response is calculated individually by considering user latency into account."
   ]
  },
  {
   "cell_type": "code",
   "execution_count": 117,
   "metadata": {},
   "outputs": [],
   "source": [
    "class Generator(object):\n",
    "    \n",
    "    \n",
    "    def __init__(self, df):\n",
    "        self.df = df\n",
    "        self.spring = [3, 4, 5]\n",
    "        self.summer = [6, 7, 8]\n",
    "        self.autumn = [9, 10, 11]\n",
    "        self.winter = [1, 2, 12]\n",
    "\n",
    "\n",
    "     \n",
    "        \n",
    "    def next_sample(self):\n",
    "    \n",
    "#         Sample a random day timestamp\n",
    "        shortlist = self.df.sample(axis = 0).index\n",
    "        random_index = random.choice(shortlist)\n",
    "#         print(random_index)\n",
    "\n",
    "        self.timestamp = str(random_index.year)+\"-\"+str(random_index.month)+\"-\"+str(random_index.day)\n",
    "        df_sample = self.df.loc[self.timestamp,:]\n",
    "        \n",
    "        df_sample = df_sample.loc[~df_sample.index.duplicated(keep='first')]\n",
    "#         print(\"next_sample size:\", df_sample.shape)\n",
    "        return df_sample\n",
    "        \n",
    "        \n",
    "    \n",
    "   "
   ]
  },
  {
   "cell_type": "markdown",
   "metadata": {},
   "source": [
    "## Active Learner\n",
    "The following cell simulates the real-world scenario to mimic the practical trials. The only difference is that the dates are randomly selected rather than sequentially moving in time. \n",
    "\n",
    "The following algorithm gets the features set for the next datapoint and based on the knowledge of the historical feature subspace, it then takes a decision about the 'need' of an labelling experiment. That is, if the situation is rare in the historical data, the learner will give it more importance as it contains more information (Information theory says that the probability of occurance of a symbol is inversely proportional to the infomation contained in it)"
   ]
  },
  {
   "cell_type": "code",
   "execution_count": 118,
   "metadata": {},
   "outputs": [],
   "source": [
    "class activeLearner(object):\n",
    "    \n",
    "    def __init__(self, params):\n",
    "        self.params = params\n",
    "        self.y_pred_AL = pd.DataFrame()\n",
    "        self.y_test_AL = pd.DataFrame()\n",
    "        self.y_pred_SUP = pd.DataFrame()\n",
    "        self.y_test_SUP = pd.DataFrame()\n",
    "        self.counter = 0\n",
    "        self.iter = 1\n",
    "        \n",
    "        \n",
    "        \n",
    "            \n",
    "    def sample_stream(self):\n",
    "        \n",
    "        #Randomly select next data point\n",
    "        response = gen.next_sample()\n",
    "\n",
    "        df = response.copy()\n",
    "#         print(df.shape)\n",
    "#         print(df.index[0])\n",
    "#         print(\"sample_stream \", df)\n",
    "\n",
    "        return df\n",
    "    \n",
    "    \n",
    "    \n",
    "    \n",
    "    def get_random_samples(self):\n",
    "        \n",
    "        response = gen.next_sample()\n",
    "        self.df = response.copy()\n",
    "            \n",
    "#        Create n number of datapoints from simulator (n=self.params[\"init_samples\"])\n",
    "        list_ = [i for i in range(self.params[\"init_samples\"])]\n",
    "\n",
    "        for i in tqdm(list_):\n",
    "            \n",
    "            response = gen.next_sample()           \n",
    "            self.df = pd.concat([self.df, response], axis=0, sort=True)\n",
    "            \n",
    "            \n",
    "            \n",
    "    def split_data(self, df):\n",
    "        \n",
    "        X_train = df[self.params['X_var_activeL']]\n",
    "        y_train = df[self.params['y_var_activeL']]\n",
    "#         print(y_train)\n",
    "        return X_train, y_train\n",
    "        \n",
    "        \n",
    "        \n",
    "    def train_model(self, X_train, y_train):\n",
    "        self.regres = 0\n",
    "        self.regres = RandomForestRegressor(n_estimators=10)\n",
    "        self.regres.fit(X_train, y_train)\n",
    "        \n",
    "        \n",
    "    def predict(self, X_test, y_test):\n",
    "        \n",
    "#         self.y_pred.loc[:, exp_id] = \n",
    "        \n",
    "        return self.regres.predict(X_test)\n",
    "#         self.y_test.loc[:, exp_id] = y_test.values\n",
    "\n",
    "        \n",
    "        \n",
    "        \n",
    "        \n",
    "    def get_pred_var(self, X_test):\n",
    "        preds = np.stack([t.predict(X_test) for t in self.regres.estimators_])\n",
    "        pred_var = np.mean(np.var(preds, axis=0))\n",
    "#         err_mean = np.mean(np.mean(preds, axis=0)-y_test)\n",
    "        return pred_var #, err_mean\n",
    "\n",
    "        \n",
    "    def get_error_measure(self, y_test, y_pred):\n",
    "        mse = ((y_test - y_pred)**2).mean(axis=0)\n",
    "        return mse\n",
    "    \n",
    "                     \n",
    "    def get_experiment_id(self):\n",
    "        self.exp_id = 0            #initialize\n",
    "        \n",
    "        exp_available = self.params[\"total_experiments\"] - self.params[\"init_samples\"]\n",
    "        \n",
    "        if self.counter > exp_available:\n",
    "            self.counter=0\n",
    "            self.iter = self.iter + 1\n",
    "            \n",
    "        exp_count = str(self.counter)\n",
    "        iter_count = str(self.iter)\n",
    "        self.exp_id = \"iter\" + iter_count + \"_exp\" + exp_count\n",
    "        self.counter = self.counter + 1\n",
    "       \n",
    "\n",
    "        \n",
    "# Run the active learning model for a given number of experiments\n",
    "\n",
    "    def run(self):\n",
    "        \n",
    "        self.p_var = []\n",
    "        self.e_mean = []\n",
    "        i=0\n",
    "\n",
    "        #         Get initial samples to train model\n",
    "        self.get_random_samples()\n",
    "                \n",
    "        X_train, y_train= self.split_data(self.df)\n",
    "        self.train_model(X_train, y_train['expected'])        \n",
    "        \n",
    "        list_ = [i for i in range(self.params[\"total_experiments\"] - self.params[\"init_samples\"])]\n",
    "        for exp in tqdm(list_):\n",
    "            \n",
    "#             print('start')\n",
    "            next_sample = self.sample_stream()\n",
    "#             print('stop')\n",
    "            X_test, y_test= self.split_data(next_sample)\n",
    "#             print(y_test['response'])\n",
    "            pred_var = self.get_pred_var(X_test)\n",
    "            \n",
    "            self.get_experiment_id()\n",
    "            \n",
    "                        \n",
    "            ########################################################\n",
    "#             Supervised Algorithm (All labels)\n",
    "            ########################################################\n",
    "            y_test_sup = y_test[\"response\"]\n",
    "            preds_sup = self.predict(X_test, y_test_sup)\n",
    "            self.y_pred_SUP.loc[:, self.exp_id] = preds_sup\n",
    "            self.y_test_SUP.loc[:, self.exp_id] = y_test_sup.values\n",
    "            ########################################################\n",
    "            \n",
    "            \n",
    "            \n",
    "            #########################################################\n",
    "#             Active Learning Block\n",
    "            #########################################################\n",
    "            if pred_var>0.00050:\n",
    "                y = y_test[\"response\"]\n",
    "                preds = self.predict(X_test, y)\n",
    "                i = i+1\n",
    "                \n",
    "            else:\n",
    "                y = y_test[\"expected\"]\n",
    "                X_test[\"tariff\"]=0\n",
    "                next_sample['tariff']=0\n",
    "                preds = self.predict(X_test, y)\n",
    "            \n",
    "            self.y_pred_AL.loc[:, self.exp_id] = preds\n",
    "            self.y_test_AL.loc[:, self.exp_id] = y.values\n",
    "\n",
    "            ########################################################\n",
    "            \n",
    "\n",
    "            \n",
    "            \n",
    "            \n",
    "            self.p_var.append(pred_var)\n",
    "            self.df = pd.concat([self.df, next_sample], axis=0, sort=True)\n",
    "            X_train, y_train= self.split_data(self.df)\n",
    "            self.train_model(X_train, y_train['response'])\n",
    "            \n",
    "        print(\"total label queries: \", i)\n",
    "            \n",
    "            "
   ]
  },
  {
   "cell_type": "code",
   "execution_count": 119,
   "metadata": {},
   "outputs": [],
   "source": [
    "def import_data():\n",
    "    try:\n",
    "        print(\"Reading generated data...\")\n",
    "        df = pd.read_csv('~/Documents/work/Active-Learning-TUD-Thesis/mod_datasets/samples.csv', sep='\\t', header=0, index_col=0, parse_dates=['GMT'], low_memory=False)\n",
    "        df['tariff_original'] = df['tariff']\n",
    "        \n",
    "    except Exception as e: print(e)\n",
    "        \n",
    "    return df"
   ]
  },
  {
   "cell_type": "code",
   "execution_count": 120,
   "metadata": {},
   "outputs": [],
   "source": [
    "def _init():\n",
    "    df = import_data()\n",
    "    \n",
    "    try:\n",
    "        gen = Generator(df)\n",
    "        trials_ = activeLearner(params)\n",
    "        \n",
    "    except Exception as e: print(e)    \n",
    "    \n",
    "    return gen, trials_#, selectsample"
   ]
  },
  {
   "cell_type": "code",
   "execution_count": 129,
   "metadata": {},
   "outputs": [],
   "source": [
    "def plot_bokeh(y1, y2, x, title, xlabel, ylabel):\n",
    "    output_notebook()\n",
    "    file_name = \"../temp/\" + title + \".html\"\n",
    "#     output_file(file_name) #Uncom`ment it to save the plot in html file\n",
    "\n",
    "\n",
    "    p=figure(plot_width=800, plot_height=400, title = title, x_axis_label = xlabel, y_axis_label = ylabel,)\n",
    "    p.line(x, y1, line_width=1, legend = \"MSE for supervised learning\", color='blue')\n",
    "    p.line(x, y2, line_width=1, legend = \"MSE for Active learning\", color='orange')\n",
    "\n",
    "    show(p)"
   ]
  },
  {
   "cell_type": "code",
   "execution_count": null,
   "metadata": {},
   "outputs": [],
   "source": []
  },
  {
   "cell_type": "code",
   "execution_count": 122,
   "metadata": {},
   "outputs": [
    {
     "name": "stdout",
     "output_type": "stream",
     "text": [
      "Reading generated data...\n"
     ]
    },
    {
     "name": "stderr",
     "output_type": "stream",
     "text": [
      "100%|██████████| 30/30 [00:00<00:00, 126.39it/s]\n",
      "100%|██████████| 470/470 [06:15<00:00,  1.56s/it]\n",
      " 43%|████▎     | 13/30 [00:00<00:00, 124.94it/s]"
     ]
    },
    {
     "name": "stdout",
     "output_type": "stream",
     "text": [
      "total label queries:  37\n"
     ]
    },
    {
     "name": "stderr",
     "output_type": "stream",
     "text": [
      "100%|██████████| 30/30 [00:00<00:00, 115.30it/s]\n",
      "100%|██████████| 470/470 [06:04<00:00,  1.42s/it]\n",
      " 47%|████▋     | 14/30 [00:00<00:00, 135.43it/s]"
     ]
    },
    {
     "name": "stdout",
     "output_type": "stream",
     "text": [
      "total label queries:  39\n"
     ]
    },
    {
     "name": "stderr",
     "output_type": "stream",
     "text": [
      "100%|██████████| 30/30 [00:00<00:00, 118.80it/s]\n",
      "100%|██████████| 470/470 [06:06<00:00,  1.44s/it]\n",
      " 47%|████▋     | 14/30 [00:00<00:00, 133.75it/s]"
     ]
    },
    {
     "name": "stdout",
     "output_type": "stream",
     "text": [
      "total label queries:  31\n"
     ]
    },
    {
     "name": "stderr",
     "output_type": "stream",
     "text": [
      "100%|██████████| 30/30 [00:00<00:00, 128.22it/s]\n",
      "100%|██████████| 470/470 [06:10<00:00,  1.45s/it]\n",
      " 47%|████▋     | 14/30 [00:00<00:00, 135.13it/s]"
     ]
    },
    {
     "name": "stdout",
     "output_type": "stream",
     "text": [
      "total label queries:  41\n"
     ]
    },
    {
     "name": "stderr",
     "output_type": "stream",
     "text": [
      "100%|██████████| 30/30 [00:00<00:00, 126.00it/s]\n",
      "100%|██████████| 470/470 [06:07<00:00,  1.45s/it]\n",
      " 47%|████▋     | 14/30 [00:00<00:00, 132.08it/s]"
     ]
    },
    {
     "name": "stdout",
     "output_type": "stream",
     "text": [
      "total label queries:  18\n"
     ]
    },
    {
     "name": "stderr",
     "output_type": "stream",
     "text": [
      "100%|██████████| 30/30 [00:00<00:00, 123.56it/s]\n",
      "100%|██████████| 470/470 [06:08<00:00,  1.52s/it]\n",
      " 33%|███▎      | 10/30 [00:00<00:00, 95.29it/s]"
     ]
    },
    {
     "name": "stdout",
     "output_type": "stream",
     "text": [
      "total label queries:  33\n"
     ]
    },
    {
     "name": "stderr",
     "output_type": "stream",
     "text": [
      "100%|██████████| 30/30 [00:00<00:00, 90.53it/s]\n",
      "100%|██████████| 470/470 [06:16<00:00,  1.45s/it]\n",
      " 43%|████▎     | 13/30 [00:00<00:00, 128.29it/s]"
     ]
    },
    {
     "name": "stdout",
     "output_type": "stream",
     "text": [
      "total label queries:  38\n"
     ]
    },
    {
     "name": "stderr",
     "output_type": "stream",
     "text": [
      "100%|██████████| 30/30 [00:00<00:00, 119.77it/s]\n",
      "100%|██████████| 470/470 [06:06<00:00,  1.44s/it]\n",
      " 47%|████▋     | 14/30 [00:00<00:00, 138.45it/s]"
     ]
    },
    {
     "name": "stdout",
     "output_type": "stream",
     "text": [
      "total label queries:  34\n"
     ]
    },
    {
     "name": "stderr",
     "output_type": "stream",
     "text": [
      "100%|██████████| 30/30 [00:00<00:00, 127.97it/s]\n",
      "100%|██████████| 470/470 [06:04<00:00,  1.44s/it]\n",
      " 47%|████▋     | 14/30 [00:00<00:00, 137.01it/s]"
     ]
    },
    {
     "name": "stdout",
     "output_type": "stream",
     "text": [
      "total label queries:  20\n"
     ]
    },
    {
     "name": "stderr",
     "output_type": "stream",
     "text": [
      "100%|██████████| 30/30 [00:00<00:00, 118.87it/s]\n",
      "100%|██████████| 470/470 [06:07<00:00,  1.45s/it]\n",
      " 47%|████▋     | 14/30 [00:00<00:00, 135.23it/s]"
     ]
    },
    {
     "name": "stdout",
     "output_type": "stream",
     "text": [
      "total label queries:  33\n"
     ]
    },
    {
     "name": "stderr",
     "output_type": "stream",
     "text": [
      "100%|██████████| 30/30 [00:00<00:00, 127.82it/s]\n",
      "100%|██████████| 470/470 [06:06<00:00,  1.44s/it]\n",
      " 47%|████▋     | 14/30 [00:00<00:00, 133.20it/s]"
     ]
    },
    {
     "name": "stdout",
     "output_type": "stream",
     "text": [
      "total label queries:  32\n"
     ]
    },
    {
     "name": "stderr",
     "output_type": "stream",
     "text": [
      "100%|██████████| 30/30 [00:00<00:00, 128.00it/s]\n",
      "100%|██████████| 470/470 [06:11<00:00,  1.41s/it]\n",
      " 47%|████▋     | 14/30 [00:00<00:00, 136.73it/s]"
     ]
    },
    {
     "name": "stdout",
     "output_type": "stream",
     "text": [
      "total label queries:  33\n"
     ]
    },
    {
     "name": "stderr",
     "output_type": "stream",
     "text": [
      "100%|██████████| 30/30 [00:00<00:00, 131.00it/s]\n",
      "100%|██████████| 470/470 [06:09<00:00,  1.43s/it]\n",
      " 47%|████▋     | 14/30 [00:00<00:00, 135.77it/s]"
     ]
    },
    {
     "name": "stdout",
     "output_type": "stream",
     "text": [
      "total label queries:  38\n"
     ]
    },
    {
     "name": "stderr",
     "output_type": "stream",
     "text": [
      "100%|██████████| 30/30 [00:00<00:00, 126.73it/s]\n",
      "100%|██████████| 470/470 [06:06<00:00,  1.43s/it]\n",
      " 47%|████▋     | 14/30 [00:00<00:00, 137.48it/s]"
     ]
    },
    {
     "name": "stdout",
     "output_type": "stream",
     "text": [
      "total label queries:  21\n"
     ]
    },
    {
     "name": "stderr",
     "output_type": "stream",
     "text": [
      "100%|██████████| 30/30 [00:00<00:00, 127.05it/s]\n",
      "100%|██████████| 470/470 [06:08<00:00,  1.45s/it]\n",
      " 47%|████▋     | 14/30 [00:00<00:00, 133.31it/s]"
     ]
    },
    {
     "name": "stdout",
     "output_type": "stream",
     "text": [
      "total label queries:  35\n"
     ]
    },
    {
     "name": "stderr",
     "output_type": "stream",
     "text": [
      "100%|██████████| 30/30 [00:00<00:00, 123.51it/s]\n",
      "100%|██████████| 470/470 [06:09<00:00,  1.43s/it]\n",
      " 47%|████▋     | 14/30 [00:00<00:00, 138.27it/s]"
     ]
    },
    {
     "name": "stdout",
     "output_type": "stream",
     "text": [
      "total label queries:  20\n"
     ]
    },
    {
     "name": "stderr",
     "output_type": "stream",
     "text": [
      "100%|██████████| 30/30 [00:00<00:00, 129.14it/s]\n",
      "100%|██████████| 470/470 [06:15<00:00,  1.45s/it]\n",
      " 50%|█████     | 15/30 [00:00<00:00, 142.69it/s]"
     ]
    },
    {
     "name": "stdout",
     "output_type": "stream",
     "text": [
      "total label queries:  33\n"
     ]
    },
    {
     "name": "stderr",
     "output_type": "stream",
     "text": [
      "100%|██████████| 30/30 [00:00<00:00, 132.88it/s]\n",
      "100%|██████████| 470/470 [06:08<00:00,  1.42s/it]\n",
      " 47%|████▋     | 14/30 [00:00<00:00, 136.47it/s]"
     ]
    },
    {
     "name": "stdout",
     "output_type": "stream",
     "text": [
      "total label queries:  18\n"
     ]
    },
    {
     "name": "stderr",
     "output_type": "stream",
     "text": [
      "100%|██████████| 30/30 [00:00<00:00, 130.24it/s]\n",
      "100%|██████████| 470/470 [06:07<00:00,  1.42s/it]\n",
      " 50%|█████     | 15/30 [00:00<00:00, 142.10it/s]"
     ]
    },
    {
     "name": "stdout",
     "output_type": "stream",
     "text": [
      "total label queries:  25\n"
     ]
    },
    {
     "name": "stderr",
     "output_type": "stream",
     "text": [
      "100%|██████████| 30/30 [00:00<00:00, 129.25it/s]\n",
      "100%|██████████| 470/470 [06:03<00:00,  1.43s/it]\n",
      " 47%|████▋     | 14/30 [00:00<00:00, 138.12it/s]"
     ]
    },
    {
     "name": "stdout",
     "output_type": "stream",
     "text": [
      "total label queries:  40\n"
     ]
    },
    {
     "name": "stderr",
     "output_type": "stream",
     "text": [
      "100%|██████████| 30/30 [00:00<00:00, 127.20it/s]\n",
      "100%|██████████| 470/470 [06:06<00:00,  1.44s/it]\n",
      " 47%|████▋     | 14/30 [00:00<00:00, 138.37it/s]"
     ]
    },
    {
     "name": "stdout",
     "output_type": "stream",
     "text": [
      "total label queries:  35\n"
     ]
    },
    {
     "name": "stderr",
     "output_type": "stream",
     "text": [
      "100%|██████████| 30/30 [00:00<00:00, 125.57it/s]\n",
      "100%|██████████| 470/470 [06:13<00:00,  1.53s/it]\n",
      " 40%|████      | 12/30 [00:00<00:00, 118.42it/s]"
     ]
    },
    {
     "name": "stdout",
     "output_type": "stream",
     "text": [
      "total label queries:  26\n"
     ]
    },
    {
     "name": "stderr",
     "output_type": "stream",
     "text": [
      "100%|██████████| 30/30 [00:00<00:00, 118.18it/s]\n",
      "100%|██████████| 470/470 [06:12<00:00,  1.44s/it]\n",
      " 47%|████▋     | 14/30 [00:00<00:00, 138.89it/s]"
     ]
    },
    {
     "name": "stdout",
     "output_type": "stream",
     "text": [
      "total label queries:  19\n"
     ]
    },
    {
     "name": "stderr",
     "output_type": "stream",
     "text": [
      "100%|██████████| 30/30 [00:00<00:00, 123.05it/s]\n",
      "100%|██████████| 470/470 [06:07<00:00,  1.43s/it]\n",
      " 47%|████▋     | 14/30 [00:00<00:00, 139.21it/s]"
     ]
    },
    {
     "name": "stdout",
     "output_type": "stream",
     "text": [
      "total label queries:  32\n"
     ]
    },
    {
     "name": "stderr",
     "output_type": "stream",
     "text": [
      "100%|██████████| 30/30 [00:00<00:00, 126.68it/s]\n",
      "100%|██████████| 470/470 [06:14<00:00,  1.46s/it]\n",
      " 47%|████▋     | 14/30 [00:00<00:00, 132.55it/s]"
     ]
    },
    {
     "name": "stdout",
     "output_type": "stream",
     "text": [
      "total label queries:  30\n"
     ]
    },
    {
     "name": "stderr",
     "output_type": "stream",
     "text": [
      "100%|██████████| 30/30 [00:00<00:00, 120.51it/s]\n",
      "100%|██████████| 470/470 [06:08<00:00,  1.42s/it]\n",
      " 47%|████▋     | 14/30 [00:00<00:00, 131.18it/s]"
     ]
    },
    {
     "name": "stdout",
     "output_type": "stream",
     "text": [
      "total label queries:  24\n"
     ]
    },
    {
     "name": "stderr",
     "output_type": "stream",
     "text": [
      "100%|██████████| 30/30 [00:00<00:00, 119.44it/s]\n",
      "100%|██████████| 470/470 [06:18<00:00,  1.55s/it]\n",
      " 43%|████▎     | 13/30 [00:00<00:00, 126.75it/s]"
     ]
    },
    {
     "name": "stdout",
     "output_type": "stream",
     "text": [
      "total label queries:  26\n"
     ]
    },
    {
     "name": "stderr",
     "output_type": "stream",
     "text": [
      "100%|██████████| 30/30 [00:00<00:00, 118.92it/s]\n",
      "100%|██████████| 470/470 [06:19<00:00,  1.45s/it]\n",
      " 43%|████▎     | 13/30 [00:00<00:00, 127.13it/s]"
     ]
    },
    {
     "name": "stdout",
     "output_type": "stream",
     "text": [
      "total label queries:  28\n"
     ]
    },
    {
     "name": "stderr",
     "output_type": "stream",
     "text": [
      "100%|██████████| 30/30 [00:00<00:00, 118.83it/s]\n",
      "100%|██████████| 470/470 [06:12<00:00,  1.44s/it]\n",
      " 43%|████▎     | 13/30 [00:00<00:00, 127.06it/s]"
     ]
    },
    {
     "name": "stdout",
     "output_type": "stream",
     "text": [
      "total label queries:  28\n"
     ]
    },
    {
     "name": "stderr",
     "output_type": "stream",
     "text": [
      "100%|██████████| 30/30 [00:00<00:00, 118.94it/s]\n",
      "100%|██████████| 470/470 [06:10<00:00,  1.45s/it]\n",
      " 47%|████▋     | 14/30 [00:00<00:00, 136.04it/s]"
     ]
    },
    {
     "name": "stdout",
     "output_type": "stream",
     "text": [
      "total label queries:  26\n"
     ]
    },
    {
     "name": "stderr",
     "output_type": "stream",
     "text": [
      "100%|██████████| 30/30 [00:00<00:00, 117.95it/s]\n",
      "100%|██████████| 470/470 [06:07<00:00,  1.43s/it]\n",
      " 43%|████▎     | 13/30 [00:00<00:00, 127.23it/s]"
     ]
    },
    {
     "name": "stdout",
     "output_type": "stream",
     "text": [
      "total label queries:  27\n"
     ]
    },
    {
     "name": "stderr",
     "output_type": "stream",
     "text": [
      "100%|██████████| 30/30 [00:00<00:00, 124.75it/s]\n",
      "100%|██████████| 470/470 [06:11<00:00,  1.44s/it]\n",
      " 43%|████▎     | 13/30 [00:00<00:00, 128.93it/s]"
     ]
    },
    {
     "name": "stdout",
     "output_type": "stream",
     "text": [
      "total label queries:  21\n"
     ]
    },
    {
     "name": "stderr",
     "output_type": "stream",
     "text": [
      "100%|██████████| 30/30 [00:00<00:00, 117.44it/s]\n",
      "100%|██████████| 470/470 [06:18<00:00,  1.42s/it]\n",
      " 47%|████▋     | 14/30 [00:00<00:00, 131.32it/s]"
     ]
    },
    {
     "name": "stdout",
     "output_type": "stream",
     "text": [
      "total label queries:  23\n"
     ]
    },
    {
     "name": "stderr",
     "output_type": "stream",
     "text": [
      "100%|██████████| 30/30 [00:00<00:00, 123.89it/s]\n",
      "100%|██████████| 470/470 [06:12<00:00,  1.44s/it]\n",
      " 47%|████▋     | 14/30 [00:00<00:00, 137.59it/s]"
     ]
    },
    {
     "name": "stdout",
     "output_type": "stream",
     "text": [
      "total label queries:  16\n"
     ]
    },
    {
     "name": "stderr",
     "output_type": "stream",
     "text": [
      "100%|██████████| 30/30 [00:00<00:00, 122.43it/s]\n",
      "100%|██████████| 470/470 [06:08<00:00,  1.43s/it]\n",
      " 40%|████      | 12/30 [00:00<00:00, 117.05it/s]"
     ]
    },
    {
     "name": "stdout",
     "output_type": "stream",
     "text": [
      "total label queries:  33\n"
     ]
    },
    {
     "name": "stderr",
     "output_type": "stream",
     "text": [
      "100%|██████████| 30/30 [00:00<00:00, 118.94it/s]\n",
      "100%|██████████| 470/470 [06:13<00:00,  1.46s/it]\n",
      " 43%|████▎     | 13/30 [00:00<00:00, 127.72it/s]"
     ]
    },
    {
     "name": "stdout",
     "output_type": "stream",
     "text": [
      "total label queries:  18\n"
     ]
    },
    {
     "name": "stderr",
     "output_type": "stream",
     "text": [
      "100%|██████████| 30/30 [00:00<00:00, 118.09it/s]\n",
      "100%|██████████| 470/470 [06:14<00:00,  1.44s/it]\n",
      " 43%|████▎     | 13/30 [00:00<00:00, 128.85it/s]"
     ]
    },
    {
     "name": "stdout",
     "output_type": "stream",
     "text": [
      "total label queries:  23\n"
     ]
    },
    {
     "name": "stderr",
     "output_type": "stream",
     "text": [
      "100%|██████████| 30/30 [00:00<00:00, 120.94it/s]\n",
      "100%|██████████| 470/470 [06:20<00:00,  1.43s/it]\n",
      " 43%|████▎     | 13/30 [00:00<00:00, 129.32it/s]"
     ]
    },
    {
     "name": "stdout",
     "output_type": "stream",
     "text": [
      "total label queries:  37\n"
     ]
    },
    {
     "name": "stderr",
     "output_type": "stream",
     "text": [
      "100%|██████████| 30/30 [00:00<00:00, 120.52it/s]\n",
      "100%|██████████| 470/470 [06:13<00:00,  1.46s/it]\n",
      " 47%|████▋     | 14/30 [00:00<00:00, 131.57it/s]"
     ]
    },
    {
     "name": "stdout",
     "output_type": "stream",
     "text": [
      "total label queries:  32\n"
     ]
    },
    {
     "name": "stderr",
     "output_type": "stream",
     "text": [
      "100%|██████████| 30/30 [00:00<00:00, 120.22it/s]\n",
      "100%|██████████| 470/470 [06:12<00:00,  1.45s/it]\n",
      " 43%|████▎     | 13/30 [00:00<00:00, 128.99it/s]"
     ]
    },
    {
     "name": "stdout",
     "output_type": "stream",
     "text": [
      "total label queries:  37\n"
     ]
    },
    {
     "name": "stderr",
     "output_type": "stream",
     "text": [
      "100%|██████████| 30/30 [00:00<00:00, 128.25it/s]\n",
      "100%|██████████| 470/470 [06:15<00:00,  1.46s/it]\n",
      " 47%|████▋     | 14/30 [00:00<00:00, 135.78it/s]"
     ]
    },
    {
     "name": "stdout",
     "output_type": "stream",
     "text": [
      "total label queries:  26\n"
     ]
    },
    {
     "name": "stderr",
     "output_type": "stream",
     "text": [
      "100%|██████████| 30/30 [00:00<00:00, 127.79it/s]\n",
      "100%|██████████| 470/470 [06:16<00:00,  1.46s/it]\n",
      " 47%|████▋     | 14/30 [00:00<00:00, 131.55it/s]"
     ]
    },
    {
     "name": "stdout",
     "output_type": "stream",
     "text": [
      "total label queries:  23\n"
     ]
    },
    {
     "name": "stderr",
     "output_type": "stream",
     "text": [
      "100%|██████████| 30/30 [00:00<00:00, 125.48it/s]\n",
      "100%|██████████| 470/470 [06:20<00:00,  1.43s/it]\n",
      " 43%|████▎     | 13/30 [00:00<00:00, 125.45it/s]"
     ]
    },
    {
     "name": "stdout",
     "output_type": "stream",
     "text": [
      "total label queries:  38\n"
     ]
    },
    {
     "name": "stderr",
     "output_type": "stream",
     "text": [
      "100%|██████████| 30/30 [00:00<00:00, 125.75it/s]\n",
      "100%|██████████| 470/470 [06:12<00:00,  1.46s/it]\n",
      " 47%|████▋     | 14/30 [00:00<00:00, 139.28it/s]"
     ]
    },
    {
     "name": "stdout",
     "output_type": "stream",
     "text": [
      "total label queries:  15\n"
     ]
    },
    {
     "name": "stderr",
     "output_type": "stream",
     "text": [
      "100%|██████████| 30/30 [00:00<00:00, 126.70it/s]\n",
      "100%|██████████| 470/470 [06:14<00:00,  1.44s/it]\n",
      " 47%|████▋     | 14/30 [00:00<00:00, 134.40it/s]"
     ]
    },
    {
     "name": "stdout",
     "output_type": "stream",
     "text": [
      "total label queries:  31\n"
     ]
    },
    {
     "name": "stderr",
     "output_type": "stream",
     "text": [
      "100%|██████████| 30/30 [00:00<00:00, 125.26it/s]\n",
      "100%|██████████| 470/470 [06:14<00:00,  1.46s/it]\n",
      " 47%|████▋     | 14/30 [00:00<00:00, 134.89it/s]"
     ]
    },
    {
     "name": "stdout",
     "output_type": "stream",
     "text": [
      "total label queries:  22\n"
     ]
    },
    {
     "name": "stderr",
     "output_type": "stream",
     "text": [
      "100%|██████████| 30/30 [00:00<00:00, 125.65it/s]\n",
      "100%|██████████| 470/470 [06:15<00:00,  1.46s/it]\n",
      " 47%|████▋     | 14/30 [00:00<00:00, 135.23it/s]"
     ]
    },
    {
     "name": "stdout",
     "output_type": "stream",
     "text": [
      "total label queries:  29\n"
     ]
    },
    {
     "name": "stderr",
     "output_type": "stream",
     "text": [
      "100%|██████████| 30/30 [00:00<00:00, 126.29it/s]\n",
      "100%|██████████| 470/470 [06:28<00:00,  1.46s/it]\n",
      " 47%|████▋     | 14/30 [00:00<00:00, 134.08it/s]"
     ]
    },
    {
     "name": "stdout",
     "output_type": "stream",
     "text": [
      "total label queries:  32\n"
     ]
    },
    {
     "name": "stderr",
     "output_type": "stream",
     "text": [
      "100%|██████████| 30/30 [00:00<00:00, 128.46it/s]\n",
      "100%|██████████| 470/470 [06:22<00:00,  1.46s/it]\n",
      " 47%|████▋     | 14/30 [00:00<00:00, 134.34it/s]"
     ]
    },
    {
     "name": "stdout",
     "output_type": "stream",
     "text": [
      "total label queries:  25\n"
     ]
    },
    {
     "name": "stderr",
     "output_type": "stream",
     "text": [
      "100%|██████████| 30/30 [00:00<00:00, 119.38it/s]\n",
      "100%|██████████| 470/470 [06:15<00:00,  1.47s/it]\n",
      " 43%|████▎     | 13/30 [00:00<00:00, 127.54it/s]"
     ]
    },
    {
     "name": "stdout",
     "output_type": "stream",
     "text": [
      "total label queries:  26\n"
     ]
    },
    {
     "name": "stderr",
     "output_type": "stream",
     "text": [
      "100%|██████████| 30/30 [00:00<00:00, 118.62it/s]\n",
      "100%|██████████| 470/470 [06:23<00:00,  1.46s/it]\n",
      " 47%|████▋     | 14/30 [00:00<00:00, 133.34it/s]"
     ]
    },
    {
     "name": "stdout",
     "output_type": "stream",
     "text": [
      "total label queries:  26\n"
     ]
    },
    {
     "name": "stderr",
     "output_type": "stream",
     "text": [
      "100%|██████████| 30/30 [00:00<00:00, 117.37it/s]\n",
      "100%|██████████| 470/470 [06:21<00:00,  1.48s/it]\n",
      " 47%|████▋     | 14/30 [00:00<00:00, 138.48it/s]"
     ]
    },
    {
     "name": "stdout",
     "output_type": "stream",
     "text": [
      "total label queries:  40\n"
     ]
    },
    {
     "name": "stderr",
     "output_type": "stream",
     "text": [
      "100%|██████████| 30/30 [00:00<00:00, 129.44it/s]\n",
      "100%|██████████| 470/470 [06:28<00:00,  1.46s/it]\n",
      " 47%|████▋     | 14/30 [00:00<00:00, 134.65it/s]"
     ]
    },
    {
     "name": "stdout",
     "output_type": "stream",
     "text": [
      "total label queries:  33\n"
     ]
    },
    {
     "name": "stderr",
     "output_type": "stream",
     "text": [
      "100%|██████████| 30/30 [00:00<00:00, 126.10it/s]\n",
      "100%|██████████| 470/470 [06:20<00:00,  1.45s/it]\n",
      " 47%|████▋     | 14/30 [00:00<00:00, 138.19it/s]"
     ]
    },
    {
     "name": "stdout",
     "output_type": "stream",
     "text": [
      "total label queries:  29\n"
     ]
    },
    {
     "name": "stderr",
     "output_type": "stream",
     "text": [
      "100%|██████████| 30/30 [00:00<00:00, 131.42it/s]\n",
      "100%|██████████| 470/470 [06:19<00:00,  1.46s/it]\n",
      " 43%|████▎     | 13/30 [00:00<00:00, 127.05it/s]"
     ]
    },
    {
     "name": "stdout",
     "output_type": "stream",
     "text": [
      "total label queries:  34\n"
     ]
    },
    {
     "name": "stderr",
     "output_type": "stream",
     "text": [
      "100%|██████████| 30/30 [00:00<00:00, 122.61it/s]\n",
      "100%|██████████| 470/470 [06:20<00:00,  1.47s/it]\n",
      " 47%|████▋     | 14/30 [00:00<00:00, 134.82it/s]"
     ]
    },
    {
     "name": "stdout",
     "output_type": "stream",
     "text": [
      "total label queries:  39\n"
     ]
    },
    {
     "name": "stderr",
     "output_type": "stream",
     "text": [
      "100%|██████████| 30/30 [00:00<00:00, 130.68it/s]\n",
      "100%|██████████| 470/470 [06:20<00:00,  1.46s/it]\n",
      " 47%|████▋     | 14/30 [00:00<00:00, 133.59it/s]"
     ]
    },
    {
     "name": "stdout",
     "output_type": "stream",
     "text": [
      "total label queries:  26\n"
     ]
    },
    {
     "name": "stderr",
     "output_type": "stream",
     "text": [
      "100%|██████████| 30/30 [00:00<00:00, 120.64it/s]\n",
      "100%|██████████| 470/470 [06:33<00:00,  1.48s/it]\n",
      " 43%|████▎     | 13/30 [00:00<00:00, 125.38it/s]"
     ]
    },
    {
     "name": "stdout",
     "output_type": "stream",
     "text": [
      "total label queries:  29\n"
     ]
    },
    {
     "name": "stderr",
     "output_type": "stream",
     "text": [
      "100%|██████████| 30/30 [00:00<00:00, 118.00it/s]\n",
      "100%|██████████| 470/470 [06:23<00:00,  1.47s/it]\n",
      " 43%|████▎     | 13/30 [00:00<00:00, 124.63it/s]"
     ]
    },
    {
     "name": "stdout",
     "output_type": "stream",
     "text": [
      "total label queries:  38\n"
     ]
    },
    {
     "name": "stderr",
     "output_type": "stream",
     "text": [
      "100%|██████████| 30/30 [00:00<00:00, 114.89it/s]\n",
      "100%|██████████| 470/470 [06:27<00:00,  1.47s/it]\n",
      " 43%|████▎     | 13/30 [00:00<00:00, 125.36it/s]"
     ]
    },
    {
     "name": "stdout",
     "output_type": "stream",
     "text": [
      "total label queries:  21\n"
     ]
    },
    {
     "name": "stderr",
     "output_type": "stream",
     "text": [
      "100%|██████████| 30/30 [00:00<00:00, 115.80it/s]\n",
      "100%|██████████| 470/470 [06:28<00:00,  1.49s/it]\n",
      " 47%|████▋     | 14/30 [00:00<00:00, 133.36it/s]"
     ]
    },
    {
     "name": "stdout",
     "output_type": "stream",
     "text": [
      "total label queries:  41\n"
     ]
    },
    {
     "name": "stderr",
     "output_type": "stream",
     "text": [
      "100%|██████████| 30/30 [00:00<00:00, 117.29it/s]\n",
      "100%|██████████| 470/470 [06:28<00:00,  1.49s/it]\n",
      " 47%|████▋     | 14/30 [00:00<00:00, 135.73it/s]"
     ]
    },
    {
     "name": "stdout",
     "output_type": "stream",
     "text": [
      "total label queries:  26\n"
     ]
    },
    {
     "name": "stderr",
     "output_type": "stream",
     "text": [
      "100%|██████████| 30/30 [00:00<00:00, 122.79it/s]\n",
      "100%|██████████| 470/470 [06:31<00:00,  1.47s/it]\n",
      " 47%|████▋     | 14/30 [00:00<00:00, 132.88it/s]"
     ]
    },
    {
     "name": "stdout",
     "output_type": "stream",
     "text": [
      "total label queries:  25\n"
     ]
    },
    {
     "name": "stderr",
     "output_type": "stream",
     "text": [
      "100%|██████████| 30/30 [00:00<00:00, 123.52it/s]\n",
      "100%|██████████| 470/470 [06:25<00:00,  1.48s/it]\n",
      " 43%|████▎     | 13/30 [00:00<00:00, 128.80it/s]"
     ]
    },
    {
     "name": "stdout",
     "output_type": "stream",
     "text": [
      "total label queries:  34\n"
     ]
    },
    {
     "name": "stderr",
     "output_type": "stream",
     "text": [
      "100%|██████████| 30/30 [00:00<00:00, 120.64it/s]\n",
      "100%|██████████| 470/470 [06:26<00:00,  1.48s/it]\n",
      " 47%|████▋     | 14/30 [00:00<00:00, 133.94it/s]"
     ]
    },
    {
     "name": "stdout",
     "output_type": "stream",
     "text": [
      "total label queries:  21\n"
     ]
    },
    {
     "name": "stderr",
     "output_type": "stream",
     "text": [
      "100%|██████████| 30/30 [00:00<00:00, 124.02it/s]\n",
      "100%|██████████| 470/470 [06:26<00:00,  1.49s/it]\n",
      " 43%|████▎     | 13/30 [00:00<00:00, 126.23it/s]"
     ]
    },
    {
     "name": "stdout",
     "output_type": "stream",
     "text": [
      "total label queries:  31\n"
     ]
    },
    {
     "name": "stderr",
     "output_type": "stream",
     "text": [
      "100%|██████████| 30/30 [00:00<00:00, 123.54it/s]\n",
      "100%|██████████| 470/470 [06:20<00:00,  1.45s/it]\n",
      " 47%|████▋     | 14/30 [00:00<00:00, 135.02it/s]"
     ]
    },
    {
     "name": "stdout",
     "output_type": "stream",
     "text": [
      "total label queries:  18\n"
     ]
    },
    {
     "name": "stderr",
     "output_type": "stream",
     "text": [
      "100%|██████████| 30/30 [00:00<00:00, 123.75it/s]\n",
      "100%|██████████| 470/470 [06:33<00:00,  1.49s/it]\n",
      " 40%|████      | 12/30 [00:00<00:00, 115.47it/s]"
     ]
    },
    {
     "name": "stdout",
     "output_type": "stream",
     "text": [
      "total label queries:  46\n"
     ]
    },
    {
     "name": "stderr",
     "output_type": "stream",
     "text": [
      "100%|██████████| 30/30 [00:00<00:00, 117.24it/s]\n",
      "100%|██████████| 470/470 [06:23<00:00,  1.48s/it]\n",
      " 47%|████▋     | 14/30 [00:00<00:00, 129.62it/s]"
     ]
    },
    {
     "name": "stdout",
     "output_type": "stream",
     "text": [
      "total label queries:  32\n"
     ]
    },
    {
     "name": "stderr",
     "output_type": "stream",
     "text": [
      "100%|██████████| 30/30 [00:00<00:00, 117.91it/s]\n",
      "100%|██████████| 470/470 [06:22<00:00,  1.46s/it]\n",
      " 47%|████▋     | 14/30 [00:00<00:00, 135.11it/s]"
     ]
    },
    {
     "name": "stdout",
     "output_type": "stream",
     "text": [
      "total label queries:  16\n"
     ]
    },
    {
     "name": "stderr",
     "output_type": "stream",
     "text": [
      "100%|██████████| 30/30 [00:00<00:00, 113.88it/s]\n",
      "100%|██████████| 470/470 [06:28<00:00,  1.49s/it]\n",
      " 47%|████▋     | 14/30 [00:00<00:00, 132.29it/s]"
     ]
    },
    {
     "name": "stdout",
     "output_type": "stream",
     "text": [
      "total label queries:  20\n"
     ]
    },
    {
     "name": "stderr",
     "output_type": "stream",
     "text": [
      "100%|██████████| 30/30 [00:00<00:00, 123.57it/s]\n",
      "100%|██████████| 470/470 [06:27<00:00,  1.47s/it]\n",
      " 43%|████▎     | 13/30 [00:00<00:00, 125.07it/s]"
     ]
    },
    {
     "name": "stdout",
     "output_type": "stream",
     "text": [
      "total label queries:  28\n"
     ]
    },
    {
     "name": "stderr",
     "output_type": "stream",
     "text": [
      "100%|██████████| 30/30 [00:00<00:00, 123.14it/s]\n",
      "100%|██████████| 470/470 [07:14<00:00,  1.58s/it]\n",
      " 47%|████▋     | 14/30 [00:00<00:00, 133.24it/s]"
     ]
    },
    {
     "name": "stdout",
     "output_type": "stream",
     "text": [
      "total label queries:  40\n"
     ]
    },
    {
     "name": "stderr",
     "output_type": "stream",
     "text": [
      "100%|██████████| 30/30 [00:00<00:00, 129.11it/s]\n",
      "100%|██████████| 470/470 [06:44<00:00,  1.53s/it]\n",
      " 40%|████      | 12/30 [00:00<00:00, 117.72it/s]"
     ]
    },
    {
     "name": "stdout",
     "output_type": "stream",
     "text": [
      "total label queries:  31\n"
     ]
    },
    {
     "name": "stderr",
     "output_type": "stream",
     "text": [
      "100%|██████████| 30/30 [00:00<00:00, 104.18it/s]\n",
      "100%|██████████| 470/470 [06:48<00:00,  1.56s/it]\n",
      "  0%|          | 0/30 [00:00<?, ?it/s]"
     ]
    },
    {
     "name": "stdout",
     "output_type": "stream",
     "text": [
      "total label queries:  19\n"
     ]
    },
    {
     "name": "stderr",
     "output_type": "stream",
     "text": [
      "100%|██████████| 30/30 [00:00<00:00, 105.42it/s]\n",
      "100%|██████████| 470/470 [06:51<00:00,  1.56s/it]\n",
      "  0%|          | 0/30 [00:00<?, ?it/s]"
     ]
    },
    {
     "name": "stdout",
     "output_type": "stream",
     "text": [
      "total label queries:  33\n"
     ]
    },
    {
     "name": "stderr",
     "output_type": "stream",
     "text": [
      "100%|██████████| 30/30 [00:00<00:00, 106.50it/s]\n",
      "100%|██████████| 470/470 [06:45<00:00,  1.55s/it]\n",
      " 40%|████      | 12/30 [00:00<00:00, 113.84it/s]"
     ]
    },
    {
     "name": "stdout",
     "output_type": "stream",
     "text": [
      "total label queries:  43\n"
     ]
    },
    {
     "name": "stderr",
     "output_type": "stream",
     "text": [
      "100%|██████████| 30/30 [00:00<00:00, 103.87it/s]\n",
      "100%|██████████| 470/470 [07:06<00:00,  1.57s/it]\n",
      " 40%|████      | 12/30 [00:00<00:00, 116.44it/s]"
     ]
    },
    {
     "name": "stdout",
     "output_type": "stream",
     "text": [
      "total label queries:  33\n"
     ]
    },
    {
     "name": "stderr",
     "output_type": "stream",
     "text": [
      "100%|██████████| 30/30 [00:00<00:00, 110.58it/s]\n",
      "100%|██████████| 470/470 [06:45<00:00,  1.54s/it]\n",
      " 40%|████      | 12/30 [00:00<00:00, 117.63it/s]"
     ]
    },
    {
     "name": "stdout",
     "output_type": "stream",
     "text": [
      "total label queries:  41\n"
     ]
    },
    {
     "name": "stderr",
     "output_type": "stream",
     "text": [
      "100%|██████████| 30/30 [00:00<00:00, 104.92it/s]\n",
      "100%|██████████| 470/470 [06:48<00:00,  1.55s/it]\n",
      "  0%|          | 0/30 [00:00<?, ?it/s]"
     ]
    },
    {
     "name": "stdout",
     "output_type": "stream",
     "text": [
      "total label queries:  29\n"
     ]
    },
    {
     "name": "stderr",
     "output_type": "stream",
     "text": [
      "100%|██████████| 30/30 [00:00<00:00, 100.23it/s]\n",
      "100%|██████████| 470/470 [06:50<00:00,  1.56s/it]\n",
      " 40%|████      | 12/30 [00:00<00:00, 116.24it/s]"
     ]
    },
    {
     "name": "stdout",
     "output_type": "stream",
     "text": [
      "total label queries:  28\n"
     ]
    },
    {
     "name": "stderr",
     "output_type": "stream",
     "text": [
      "100%|██████████| 30/30 [00:00<00:00, 109.52it/s]\n",
      "100%|██████████| 470/470 [06:55<00:00,  1.79s/it]\n",
      "  0%|          | 0/30 [00:00<?, ?it/s]"
     ]
    },
    {
     "name": "stdout",
     "output_type": "stream",
     "text": [
      "total label queries:  50\n"
     ]
    },
    {
     "name": "stderr",
     "output_type": "stream",
     "text": [
      "100%|██████████| 30/30 [00:00<00:00, 89.36it/s]\n",
      "100%|██████████| 470/470 [06:56<00:00,  1.55s/it]\n",
      " 40%|████      | 12/30 [00:00<00:00, 116.28it/s]"
     ]
    },
    {
     "name": "stdout",
     "output_type": "stream",
     "text": [
      "total label queries:  38\n"
     ]
    },
    {
     "name": "stderr",
     "output_type": "stream",
     "text": [
      "100%|██████████| 30/30 [00:00<00:00, 106.67it/s]\n",
      "100%|██████████| 470/470 [06:47<00:00,  1.56s/it]\n",
      "  0%|          | 0/30 [00:00<?, ?it/s]"
     ]
    },
    {
     "name": "stdout",
     "output_type": "stream",
     "text": [
      "total label queries:  25\n"
     ]
    },
    {
     "name": "stderr",
     "output_type": "stream",
     "text": [
      "100%|██████████| 30/30 [00:00<00:00, 111.75it/s]\n",
      "100%|██████████| 470/470 [06:59<00:00,  1.56s/it]\n",
      "  0%|          | 0/30 [00:00<?, ?it/s]"
     ]
    },
    {
     "name": "stdout",
     "output_type": "stream",
     "text": [
      "total label queries:  15\n"
     ]
    },
    {
     "name": "stderr",
     "output_type": "stream",
     "text": [
      "100%|██████████| 30/30 [00:00<00:00, 107.41it/s]\n",
      "100%|██████████| 470/470 [06:44<00:00,  1.54s/it]\n",
      "  0%|          | 0/30 [00:00<?, ?it/s]"
     ]
    },
    {
     "name": "stdout",
     "output_type": "stream",
     "text": [
      "total label queries:  28\n"
     ]
    },
    {
     "name": "stderr",
     "output_type": "stream",
     "text": [
      "100%|██████████| 30/30 [00:00<00:00, 110.89it/s]\n",
      "100%|██████████| 470/470 [07:01<00:00,  1.55s/it]\n",
      "  0%|          | 0/30 [00:00<?, ?it/s]"
     ]
    },
    {
     "name": "stdout",
     "output_type": "stream",
     "text": [
      "total label queries:  35\n"
     ]
    },
    {
     "name": "stderr",
     "output_type": "stream",
     "text": [
      "100%|██████████| 30/30 [00:00<00:00, 105.14it/s]\n",
      "100%|██████████| 470/470 [06:46<00:00,  1.55s/it]\n",
      "  0%|          | 0/30 [00:00<?, ?it/s]"
     ]
    },
    {
     "name": "stdout",
     "output_type": "stream",
     "text": [
      "total label queries:  35\n"
     ]
    },
    {
     "name": "stderr",
     "output_type": "stream",
     "text": [
      "100%|██████████| 30/30 [00:00<00:00, 100.81it/s]\n",
      "100%|██████████| 470/470 [06:49<00:00,  1.56s/it]\n",
      "  0%|          | 0/30 [00:00<?, ?it/s]"
     ]
    },
    {
     "name": "stdout",
     "output_type": "stream",
     "text": [
      "total label queries:  33\n"
     ]
    },
    {
     "name": "stderr",
     "output_type": "stream",
     "text": [
      "100%|██████████| 30/30 [00:00<00:00, 115.45it/s]\n",
      "100%|██████████| 470/470 [06:50<00:00,  1.56s/it]\n",
      "  0%|          | 0/30 [00:00<?, ?it/s]"
     ]
    },
    {
     "name": "stdout",
     "output_type": "stream",
     "text": [
      "total label queries:  45\n"
     ]
    },
    {
     "name": "stderr",
     "output_type": "stream",
     "text": [
      "100%|██████████| 30/30 [00:00<00:00, 106.12it/s]\n",
      "100%|██████████| 470/470 [06:54<00:00,  1.59s/it]\n",
      "  0%|          | 0/30 [00:00<?, ?it/s]"
     ]
    },
    {
     "name": "stdout",
     "output_type": "stream",
     "text": [
      "total label queries:  36\n"
     ]
    },
    {
     "name": "stderr",
     "output_type": "stream",
     "text": [
      "100%|██████████| 30/30 [00:00<00:00, 82.25it/s]\n",
      "100%|██████████| 470/470 [07:11<00:00,  1.59s/it]\n",
      "  0%|          | 0/30 [00:00<?, ?it/s]"
     ]
    },
    {
     "name": "stdout",
     "output_type": "stream",
     "text": [
      "total label queries:  28\n"
     ]
    },
    {
     "name": "stderr",
     "output_type": "stream",
     "text": [
      "100%|██████████| 30/30 [00:00<00:00, 104.81it/s]\n",
      "100%|██████████| 470/470 [06:49<00:00,  1.57s/it]\n",
      "  0%|          | 0/30 [00:00<?, ?it/s]"
     ]
    },
    {
     "name": "stdout",
     "output_type": "stream",
     "text": [
      "total label queries:  23\n"
     ]
    },
    {
     "name": "stderr",
     "output_type": "stream",
     "text": [
      "100%|██████████| 30/30 [00:00<00:00, 114.55it/s]\n",
      "100%|██████████| 470/470 [06:50<00:00,  1.54s/it]\n",
      "  0%|          | 0/30 [00:00<?, ?it/s]"
     ]
    },
    {
     "name": "stdout",
     "output_type": "stream",
     "text": [
      "total label queries:  28\n"
     ]
    },
    {
     "name": "stderr",
     "output_type": "stream",
     "text": [
      "100%|██████████| 30/30 [00:00<00:00, 106.37it/s]\n",
      "100%|██████████| 470/470 [06:50<00:00,  1.54s/it]\n",
      "  0%|          | 0/30 [00:00<?, ?it/s]"
     ]
    },
    {
     "name": "stdout",
     "output_type": "stream",
     "text": [
      "total label queries:  34\n"
     ]
    },
    {
     "name": "stderr",
     "output_type": "stream",
     "text": [
      "100%|██████████| 30/30 [00:00<00:00, 109.04it/s]\n",
      "100%|██████████| 470/470 [07:07<00:00,  1.74s/it]\n",
      "  0%|          | 0/30 [00:00<?, ?it/s]"
     ]
    },
    {
     "name": "stdout",
     "output_type": "stream",
     "text": [
      "total label queries:  23\n"
     ]
    },
    {
     "name": "stderr",
     "output_type": "stream",
     "text": [
      "100%|██████████| 30/30 [00:00<00:00, 81.75it/s]\n",
      "100%|██████████| 470/470 [07:01<00:00,  1.56s/it]\n",
      "  0%|          | 0/30 [00:00<?, ?it/s]"
     ]
    },
    {
     "name": "stdout",
     "output_type": "stream",
     "text": [
      "total label queries:  34\n"
     ]
    },
    {
     "name": "stderr",
     "output_type": "stream",
     "text": [
      "100%|██████████| 30/30 [00:00<00:00, 96.88it/s]\n",
      "100%|██████████| 470/470 [06:57<00:00,  1.56s/it]\n",
      "  0%|          | 0/30 [00:00<?, ?it/s]"
     ]
    },
    {
     "name": "stdout",
     "output_type": "stream",
     "text": [
      "total label queries:  27\n"
     ]
    },
    {
     "name": "stderr",
     "output_type": "stream",
     "text": [
      "100%|██████████| 30/30 [00:00<00:00, 102.56it/s]\n",
      "100%|██████████| 470/470 [07:02<00:00,  1.59s/it]\n",
      "  0%|          | 0/30 [00:00<?, ?it/s]"
     ]
    },
    {
     "name": "stdout",
     "output_type": "stream",
     "text": [
      "total label queries:  23\n"
     ]
    },
    {
     "name": "stderr",
     "output_type": "stream",
     "text": [
      "100%|██████████| 30/30 [00:00<00:00, 105.15it/s]\n",
      "100%|██████████| 470/470 [06:55<00:00,  1.57s/it]\n"
     ]
    },
    {
     "name": "stdout",
     "output_type": "stream",
     "text": [
      "total label queries:  24\n",
      "Data saved.\n"
     ]
    }
   ],
   "source": [
    "if __name__ == '__main__':\n",
    "#     # import data and declare classes\n",
    "    gen, trials_= _init()\n",
    "    df_AL = pd.DataFrame()\n",
    "    df_SUP = pd.DataFrame()\n",
    "\n",
    "#     # start the simulator and active learning by membership query synthesis\n",
    "    for i in range(100):\n",
    "        trials_.run()\n",
    "        AL_error = trials_.y_pred_AL - trials_.y_test_AL\n",
    "        AL_mean = AL_error.mean(axis=0).abs()\n",
    "        df_AL.loc[:,i] = AL_mean\n",
    "\n",
    "        SUP_error = trials_.y_pred_SUP - trials_.y_test_SUP\n",
    "        SUP_mean = SUP_error.mean(axis=0).abs()\n",
    "        df_SUP.loc[:,i] = SUP_mean\n",
    "\n",
    "        \n",
    "        \n",
    "#     plot_bokeh(trials_.p_var, trials_.e_mean, \"Relation between predication variance of trees and prediction error\", \"Prediction error\", \"Prediction variance\")\n",
    "\n",
    "\n",
    "#     plt.ylim(0, 0.002)\n",
    "#     x = [abs(number) for number in trials_.e_mean] \n",
    "# #     print(x)\n",
    "#     plt.scatter(x, trials_.p_var)\n",
    "#     plt.title('Scatter plot of predication variance of trees and prediction error')\n",
    "#     plt.xlabel('Prediction error')\n",
    "#     plt.ylabel('Prediction variance')\n",
    "#     plt.show()\n",
    "\n",
    "#     list_ = [i for i in range(len(mse))]\n",
    "#     d = {'0':mse}\n",
    "    \n",
    "#     for i in range(params[\"total_iterations\"]):\n",
    "#         print(\"Iteration\", i+1) \n",
    "#         trials_.run()\n",
    "    \n",
    "    \n",
    "    \n",
    "    \n",
    "    \n",
    "#     title = \"Mean Squared Error vs Number of samples\"\n",
    "#     xlabel = \"Number of iterations\"\n",
    "#     ylabel = \"MSE\"\n",
    "#     list_ = [i for i in range(params[\"total_experiments\"])]\n",
    "    \n",
    "#     plot_bokeh(mse_total.mean(axis=1), list_, title, xlabel, ylabel)\n",
    "    \n",
    "    \n",
    "    \n",
    "    \n",
    "    today = date.today()\n",
    "\n",
    "    \n",
    "    file_name = \"../results/generated_data\" + str(today) + \".csv\"\n",
    "    trials_.df.to_csv(file_name, sep='\\t')\n",
    "        \n",
    "    file_name = \"../results/AL_predictions\" + str(today) + \".csv\"\n",
    "    trials_.y_pred_AL.to_csv(file_name, sep='\\t')\n",
    "    \n",
    "    file_name = \"../results/AL_actuals\" + str(today) + \".csv\"\n",
    "    trials_.y_test_AL.to_csv(file_name, sep='\\t')\n",
    "    \n",
    "    file_name = \"../results/SUP_predictions\" + str(today) + \".csv\"\n",
    "    trials_.y_pred_AL.to_csv(file_name, sep='\\t')\n",
    "    \n",
    "    file_name = \"../results/SUP_actuals\" + str(today) + \".csv\"\n",
    "    trials_.y_test_AL.to_csv(file_name, sep='\\t')\n",
    "    \n",
    "    file_name = \"../results/feature_set\" + str(today) + \".txt\"\n",
    "    with open(file_name, \"w\") as output:\n",
    "        output.write(str(params[\"X_var_activeL\"]))\n",
    "    \n",
    "    print(\"Data saved.\")\n",
    "#     print(\"summary:\")"
   ]
  },
  {
   "cell_type": "code",
   "execution_count": 80,
   "metadata": {},
   "outputs": [
    {
     "data": {
      "image/png": "[encoded data removed]",
      "text/plain": [
       "<Figure size 432x288 with 1 Axes>"
      ]
     },
     "metadata": {
      "needs_background": "light"
     },
     "output_type": "display_data"
    }
   ],
   "source": [
    "plt.ylim(0, 0.002)\n",
    "plt.xlim(0, 0.04)\n",
    "x = [abs(number) for number in trials_.e_mean] \n",
    "#     print(x)\n",
    "plt.scatter(x, trials_.p_var)\n",
    "plt.title('Scatter plot of predication variance of trees and prediction error')\n",
    "plt.xlabel('Prediction error')\n",
    "plt.ylabel('Prediction variance')\n",
    "plt.show()\n"
   ]
  },
  {
   "cell_type": "code",
   "execution_count": 134,
   "metadata": {},
   "outputs": [
    {
     "data": {
      "text/html": [
       "\n",
       "    <div class=\"bk-root\">\n",
       "        <a href=\"https://bokeh.pydata.org\" target=\"_blank\" class=\"bk-logo bk-logo-small bk-logo-notebook\"></a>\n",
       "        <span id=\"8139\">Loading BokehJS ...</span>\n",
       "    </div>"
      ]
     },
     "metadata": {},
     "output_type": "display_data"
    },
    {
     "data": {
      "application/javascript": [
       "\n",
       "(function(root) {\n",
       "  function now() {\n",
       "    return new Date();\n",
       "  }\n",
       "\n",
       "  var force = true;\n",
       "\n",
       "  if (typeof root._bokeh_onload_callbacks === \"undefined\" || force === true) {\n",
       "    root._bokeh_onload_callbacks = [];\n",
       "    root._bokeh_is_loading = undefined;\n",
       "  }\n",
       "\n",
       "  var JS_MIME_TYPE = 'application/javascript';\n",
       "  var HTML_MIME_TYPE = 'text/html';\n",
       "  var EXEC_MIME_TYPE = 'application/vnd.bokehjs_exec.v0+json';\n",
       "  var CLASS_NAME = 'output_bokeh rendered_html';\n",
       "\n",
       "  /**\n",
       "   * Render data to the DOM node\n",
       "   */\n",
       "  function render(props, node) {\n",
       "    var script = document.createElement(\"script\");\n",
       "    node.appendChild(script);\n",
       "  }\n",
       "\n",
       "  /**\n",
       "   * Handle when an output is cleared or removed\n",
       "   */\n",
       "  function handleClearOutput(event, handle) {\n",
       "    var cell = handle.cell;\n",
       "\n",
       "    var id = cell.output_area._bokeh_element_id;\n",
       "    var server_id = cell.output_area._bokeh_server_id;\n",
       "    // Clean up Bokeh references\n",
       "    if (id != null && id in Bokeh.index) {\n",
       "      Bokeh.index[id].model.document.clear();\n",
       "      delete Bokeh.index[id];\n",
       "    }\n",
       "\n",
       "    if (server_id !== undefined) {\n",
       "      // Clean up Bokeh references\n",
       "      var cmd = \"from bokeh.io.state import curstate; print(curstate().uuid_to_server['\" + server_id + \"'].get_sessions()[0].document.roots[0]._id)\";\n",
       "      cell.notebook.kernel.execute(cmd, {\n",
       "        iopub: {\n",
       "          output: function(msg) {\n",
       "            var id = msg.content.text.trim();\n",
       "            if (id in Bokeh.index) {\n",
       "              Bokeh.index[id].model.document.clear();\n",
       "              delete Bokeh.index[id];\n",
       "            }\n",
       "          }\n",
       "        }\n",
       "      });\n",
       "      // Destroy server and session\n",
       "      var cmd = \"import bokeh.io.notebook as ion; ion.destroy_server('\" + server_id + \"')\";\n",
       "      cell.notebook.kernel.execute(cmd);\n",
       "    }\n",
       "  }\n",
       "\n",
       "  /**\n",
       "   * Handle when a new output is added\n",
       "   */\n",
       "  function handleAddOutput(event, handle) {\n",
       "    var output_area = handle.output_area;\n",
       "    var output = handle.output;\n",
       "\n",
       "    // limit handleAddOutput to display_data with EXEC_MIME_TYPE content only\n",
       "    if ((output.output_type != \"display_data\") || (!output.data.hasOwnProperty(EXEC_MIME_TYPE))) {\n",
       "      return\n",
       "    }\n",
       "\n",
       "    var toinsert = output_area.element.find(\".\" + CLASS_NAME.split(' ')[0]);\n",
       "\n",
       "    if (output.metadata[EXEC_MIME_TYPE][\"id\"] !== undefined) {\n",
       "      toinsert[toinsert.length - 1].firstChild.textContent = output.data[JS_MIME_TYPE];\n",
       "      // store reference to embed id on output_area\n",
       "      output_area._bokeh_element_id = output.metadata[EXEC_MIME_TYPE][\"id\"];\n",
       "    }\n",
       "    if (output.metadata[EXEC_MIME_TYPE][\"server_id\"] !== undefined) {\n",
       "      var bk_div = document.createElement(\"div\");\n",
       "      bk_div.innerHTML = output.data[HTML_MIME_TYPE];\n",
       "      var script_attrs = bk_div.children[0].attributes;\n",
       "      for (var i = 0; i < script_attrs.length; i++) {\n",
       "        toinsert[toinsert.length - 1].firstChild.setAttribute(script_attrs[i].name, script_attrs[i].value);\n",
       "      }\n",
       "      // store reference to server id on output_area\n",
       "      output_area._bokeh_server_id = output.metadata[EXEC_MIME_TYPE][\"server_id\"];\n",
       "    }\n",
       "  }\n",
       "\n",
       "  function register_renderer(events, OutputArea) {\n",
       "\n",
       "    function append_mime(data, metadata, element) {\n",
       "      // create a DOM node to render to\n",
       "      var toinsert = this.create_output_subarea(\n",
       "        metadata,\n",
       "        CLASS_NAME,\n",
       "        EXEC_MIME_TYPE\n",
       "      );\n",
       "      this.keyboard_manager.register_events(toinsert);\n",
       "      // Render to node\n",
       "      var props = {data: data, metadata: metadata[EXEC_MIME_TYPE]};\n",
       "      render(props, toinsert[toinsert.length - 1]);\n",
       "      element.append(toinsert);\n",
       "      return toinsert\n",
       "    }\n",
       "\n",
       "    /* Handle when an output is cleared or removed */\n",
       "    events.on('clear_output.CodeCell', handleClearOutput);\n",
       "    events.on('delete.Cell', handleClearOutput);\n",
       "\n",
       "    /* Handle when a new output is added */\n",
       "    events.on('output_added.OutputArea', handleAddOutput);\n",
       "\n",
       "    /**\n",
       "     * Register the mime type and append_mime function with output_area\n",
       "     */\n",
       "    OutputArea.prototype.register_mime_type(EXEC_MIME_TYPE, append_mime, {\n",
       "      /* Is output safe? */\n",
       "      safe: true,\n",
       "      /* Index of renderer in `output_area.display_order` */\n",
       "      index: 0\n",
       "    });\n",
       "  }\n",
       "\n",
       "  // register the mime type if in Jupyter Notebook environment and previously unregistered\n",
       "  if (root.Jupyter !== undefined) {\n",
       "    var events = require('base/js/events');\n",
       "    var OutputArea = require('notebook/js/outputarea').OutputArea;\n",
       "\n",
       "    if (OutputArea.prototype.mime_types().indexOf(EXEC_MIME_TYPE) == -1) {\n",
       "      register_renderer(events, OutputArea);\n",
       "    }\n",
       "  }\n",
       "\n",
       "  \n",
       "  if (typeof (root._bokeh_timeout) === \"undefined\" || force === true) {\n",
       "    root._bokeh_timeout = Date.now() + 5000;\n",
       "    root._bokeh_failed_load = false;\n",
       "  }\n",
       "\n",
       "  var NB_LOAD_WARNING = {'data': {'text/html':\n",
       "     \"<div style='background-color: #fdd'>\\n\"+\n",
       "     \"<p>\\n\"+\n",
       "     \"BokehJS does not appear to have successfully loaded. If loading BokehJS from CDN, this \\n\"+\n",
       "     \"may be due to a slow or bad network connection. Possible fixes:\\n\"+\n",
       "     \"</p>\\n\"+\n",
       "     \"<ul>\\n\"+\n",
       "     \"<li>re-rerun `output_notebook()` to attempt to load from CDN again, or</li>\\n\"+\n",
       "     \"<li>use INLINE resources instead, as so:</li>\\n\"+\n",
       "     \"</ul>\\n\"+\n",
       "     \"<code>\\n\"+\n",
       "     \"from bokeh.resources import INLINE\\n\"+\n",
       "     \"output_notebook(resources=INLINE)\\n\"+\n",
       "     \"</code>\\n\"+\n",
       "     \"</div>\"}};\n",
       "\n",
       "  function display_loaded() {\n",
       "    var el = document.getElementById(\"8139\");\n",
       "    if (el != null) {\n",
       "      el.textContent = \"BokehJS is loading...\";\n",
       "    }\n",
       "    if (root.Bokeh !== undefined) {\n",
       "      if (el != null) {\n",
       "        el.textContent = \"BokehJS \" + root.Bokeh.version + \" successfully loaded.\";\n",
       "      }\n",
       "    } else if (Date.now() < root._bokeh_timeout) {\n",
       "      setTimeout(display_loaded, 100)\n",
       "    }\n",
       "  }\n",
       "\n",
       "\n",
       "  function run_callbacks() {\n",
       "    try {\n",
       "      root._bokeh_onload_callbacks.forEach(function(callback) {\n",
       "        if (callback != null)\n",
       "          callback();\n",
       "      });\n",
       "    } finally {\n",
       "      delete root._bokeh_onload_callbacks\n",
       "    }\n",
       "    console.debug(\"Bokeh: all callbacks have finished\");\n",
       "  }\n",
       "\n",
       "  function load_libs(css_urls, js_urls, callback) {\n",
       "    if (css_urls == null) css_urls = [];\n",
       "    if (js_urls == null) js_urls = [];\n",
       "\n",
       "    root._bokeh_onload_callbacks.push(callback);\n",
       "    if (root._bokeh_is_loading > 0) {\n",
       "      console.debug(\"Bokeh: BokehJS is being loaded, scheduling callback at\", now());\n",
       "      return null;\n",
       "    }\n",
       "    if (js_urls == null || js_urls.length === 0) {\n",
       "      run_callbacks();\n",
       "      return null;\n",
       "    }\n",
       "    console.debug(\"Bokeh: BokehJS not loaded, scheduling load and callback at\", now());\n",
       "    root._bokeh_is_loading = css_urls.length + js_urls.length;\n",
       "\n",
       "    function on_load() {\n",
       "      root._bokeh_is_loading--;\n",
       "      if (root._bokeh_is_loading === 0) {\n",
       "        console.debug(\"Bokeh: all BokehJS libraries/stylesheets loaded\");\n",
       "        run_callbacks()\n",
       "      }\n",
       "    }\n",
       "\n",
       "    function on_error() {\n",
       "      console.error(\"failed to load \" + url);\n",
       "    }\n",
       "\n",
       "    for (var i = 0; i < css_urls.length; i++) {\n",
       "      var url = css_urls[i];\n",
       "      const element = document.createElement(\"link\");\n",
       "      element.onload = on_load;\n",
       "      element.onerror = on_error;\n",
       "      element.rel = \"stylesheet\";\n",
       "      element.type = \"text/css\";\n",
       "      element.href = url;\n",
       "      console.debug(\"Bokeh: injecting link tag for BokehJS stylesheet: \", url);\n",
       "      document.body.appendChild(element);\n",
       "    }\n",
       "\n",
       "    for (var i = 0; i < js_urls.length; i++) {\n",
       "      var url = js_urls[i];\n",
       "      var element = document.createElement('script');\n",
       "      element.onload = on_load;\n",
       "      element.onerror = on_error;\n",
       "      element.async = false;\n",
       "      element.src = url;\n",
       "      console.debug(\"Bokeh: injecting script tag for BokehJS library: \", url);\n",
       "      document.head.appendChild(element);\n",
       "    }\n",
       "  };var element = document.getElementById(\"8139\");\n",
       "  if (element == null) {\n",
       "    console.error(\"Bokeh: ERROR: autoload.js configured with elementid '8139' but no matching script tag was found. \")\n",
       "    return false;\n",
       "  }\n",
       "\n",
       "  function inject_raw_css(css) {\n",
       "    const element = document.createElement(\"style\");\n",
       "    element.appendChild(document.createTextNode(css));\n",
       "    document.body.appendChild(element);\n",
       "  }\n",
       "\n",
       "  var js_urls = [\"https://cdn.pydata.org/bokeh/release/bokeh-1.1.0.min.js\", \"https://cdn.pydata.org/bokeh/release/bokeh-widgets-1.1.0.min.js\", \"https://cdn.pydata.org/bokeh/release/bokeh-tables-1.1.0.min.js\", \"https://cdn.pydata.org/bokeh/release/bokeh-gl-1.1.0.min.js\"];\n",
       "  var css_urls = [\"https://cdn.pydata.org/bokeh/release/bokeh-1.1.0.min.css\", \"https://cdn.pydata.org/bokeh/release/bokeh-widgets-1.1.0.min.css\", \"https://cdn.pydata.org/bokeh/release/bokeh-tables-1.1.0.min.css\"];\n",
       "\n",
       "  var inline_js = [\n",
       "    function(Bokeh) {\n",
       "      Bokeh.set_log_level(\"info\");\n",
       "    },\n",
       "    \n",
       "    function(Bokeh) {\n",
       "      \n",
       "    },\n",
       "    function(Bokeh) {} // ensure no trailing comma for IE\n",
       "  ];\n",
       "\n",
       "  function run_inline_js() {\n",
       "    \n",
       "    if ((root.Bokeh !== undefined) || (force === true)) {\n",
       "      for (var i = 0; i < inline_js.length; i++) {\n",
       "        inline_js[i].call(root, root.Bokeh);\n",
       "      }if (force === true) {\n",
       "        display_loaded();\n",
       "      }} else if (Date.now() < root._bokeh_timeout) {\n",
       "      setTimeout(run_inline_js, 100);\n",
       "    } else if (!root._bokeh_failed_load) {\n",
       "      console.log(\"Bokeh: BokehJS failed to load within specified timeout.\");\n",
       "      root._bokeh_failed_load = true;\n",
       "    } else if (force !== true) {\n",
       "      var cell = $(document.getElementById(\"8139\")).parents('.cell').data().cell;\n",
       "      cell.output_area.append_execute_result(NB_LOAD_WARNING)\n",
       "    }\n",
       "\n",
       "  }\n",
       "\n",
       "  if (root._bokeh_is_loading === 0) {\n",
       "    console.debug(\"Bokeh: BokehJS loaded, going straight to plotting\");\n",
       "    run_inline_js();\n",
       "  } else {\n",
       "    load_libs(css_urls, js_urls, function() {\n",
       "      console.debug(\"Bokeh: BokehJS plotting callback run at\", now());\n",
       "      run_inline_js();\n",
       "    });\n",
       "  }\n",
       "}(window));"
      ],
      "application/vnd.bokehjs_load.v0+json": "\n(function(root) {\n  function now() {\n    return new Date();\n  }\n\n  var force = true;\n\n  if (typeof root._bokeh_onload_callbacks === \"undefined\" || force === true) {\n    root._bokeh_onload_callbacks = [];\n    root._bokeh_is_loading = undefined;\n  }\n\n  \n\n  \n  if (typeof (root._bokeh_timeout) === \"undefined\" || force === true) {\n    root._bokeh_timeout = Date.now() + 5000;\n    root._bokeh_failed_load = false;\n  }\n\n  var NB_LOAD_WARNING = {'data': {'text/html':\n     \"<div style='background-color: #fdd'>\\n\"+\n     \"<p>\\n\"+\n     \"BokehJS does not appear to have successfully loaded. If loading BokehJS from CDN, this \\n\"+\n     \"may be due to a slow or bad network connection. Possible fixes:\\n\"+\n     \"</p>\\n\"+\n     \"<ul>\\n\"+\n     \"<li>re-rerun `output_notebook()` to attempt to load from CDN again, or</li>\\n\"+\n     \"<li>use INLINE resources instead, as so:</li>\\n\"+\n     \"</ul>\\n\"+\n     \"<code>\\n\"+\n     \"from bokeh.resources import INLINE\\n\"+\n     \"output_notebook(resources=INLINE)\\n\"+\n     \"</code>\\n\"+\n     \"</div>\"}};\n\n  function display_loaded() {\n    var el = document.getElementById(\"8139\");\n    if (el != null) {\n      el.textContent = \"BokehJS is loading...\";\n    }\n    if (root.Bokeh !== undefined) {\n      if (el != null) {\n        el.textContent = \"BokehJS \" + root.Bokeh.version + \" successfully loaded.\";\n      }\n    } else if (Date.now() < root._bokeh_timeout) {\n      setTimeout(display_loaded, 100)\n    }\n  }\n\n\n  function run_callbacks() {\n    try {\n      root._bokeh_onload_callbacks.forEach(function(callback) {\n        if (callback != null)\n          callback();\n      });\n    } finally {\n      delete root._bokeh_onload_callbacks\n    }\n    console.debug(\"Bokeh: all callbacks have finished\");\n  }\n\n  function load_libs(css_urls, js_urls, callback) {\n    if (css_urls == null) css_urls = [];\n    if (js_urls == null) js_urls = [];\n\n    root._bokeh_onload_callbacks.push(callback);\n    if (root._bokeh_is_loading > 0) {\n      console.debug(\"Bokeh: BokehJS is being loaded, scheduling callback at\", now());\n      return null;\n    }\n    if (js_urls == null || js_urls.length === 0) {\n      run_callbacks();\n      return null;\n    }\n    console.debug(\"Bokeh: BokehJS not loaded, scheduling load and callback at\", now());\n    root._bokeh_is_loading = css_urls.length + js_urls.length;\n\n    function on_load() {\n      root._bokeh_is_loading--;\n      if (root._bokeh_is_loading === 0) {\n        console.debug(\"Bokeh: all BokehJS libraries/stylesheets loaded\");\n        run_callbacks()\n      }\n    }\n\n    function on_error() {\n      console.error(\"failed to load \" + url);\n    }\n\n    for (var i = 0; i < css_urls.length; i++) {\n      var url = css_urls[i];\n      const element = document.createElement(\"link\");\n      element.onload = on_load;\n      element.onerror = on_error;\n      element.rel = \"stylesheet\";\n      element.type = \"text/css\";\n      element.href = url;\n      console.debug(\"Bokeh: injecting link tag for BokehJS stylesheet: \", url);\n      document.body.appendChild(element);\n    }\n\n    for (var i = 0; i < js_urls.length; i++) {\n      var url = js_urls[i];\n      var element = document.createElement('script');\n      element.onload = on_load;\n      element.onerror = on_error;\n      element.async = false;\n      element.src = url;\n      console.debug(\"Bokeh: injecting script tag for BokehJS library: \", url);\n      document.head.appendChild(element);\n    }\n  };var element = document.getElementById(\"8139\");\n  if (element == null) {\n    console.error(\"Bokeh: ERROR: autoload.js configured with elementid '8139' but no matching script tag was found. \")\n    return false;\n  }\n\n  function inject_raw_css(css) {\n    const element = document.createElement(\"style\");\n    element.appendChild(document.createTextNode(css));\n    document.body.appendChild(element);\n  }\n\n  var js_urls = [\"https://cdn.pydata.org/bokeh/release/bokeh-1.1.0.min.js\", \"https://cdn.pydata.org/bokeh/release/bokeh-widgets-1.1.0.min.js\", \"https://cdn.pydata.org/bokeh/release/bokeh-tables-1.1.0.min.js\", \"https://cdn.pydata.org/bokeh/release/bokeh-gl-1.1.0.min.js\"];\n  var css_urls = [\"https://cdn.pydata.org/bokeh/release/bokeh-1.1.0.min.css\", \"https://cdn.pydata.org/bokeh/release/bokeh-widgets-1.1.0.min.css\", \"https://cdn.pydata.org/bokeh/release/bokeh-tables-1.1.0.min.css\"];\n\n  var inline_js = [\n    function(Bokeh) {\n      Bokeh.set_log_level(\"info\");\n    },\n    \n    function(Bokeh) {\n      \n    },\n    function(Bokeh) {} // ensure no trailing comma for IE\n  ];\n\n  function run_inline_js() {\n    \n    if ((root.Bokeh !== undefined) || (force === true)) {\n      for (var i = 0; i < inline_js.length; i++) {\n        inline_js[i].call(root, root.Bokeh);\n      }if (force === true) {\n        display_loaded();\n      }} else if (Date.now() < root._bokeh_timeout) {\n      setTimeout(run_inline_js, 100);\n    } else if (!root._bokeh_failed_load) {\n      console.log(\"Bokeh: BokehJS failed to load within specified timeout.\");\n      root._bokeh_failed_load = true;\n    } else if (force !== true) {\n      var cell = $(document.getElementById(\"8139\")).parents('.cell').data().cell;\n      cell.output_area.append_execute_result(NB_LOAD_WARNING)\n    }\n\n  }\n\n  if (root._bokeh_is_loading === 0) {\n    console.debug(\"Bokeh: BokehJS loaded, going straight to plotting\");\n    run_inline_js();\n  } else {\n    load_libs(css_urls, js_urls, function() {\n      console.debug(\"Bokeh: BokehJS plotting callback run at\", now());\n      run_inline_js();\n    });\n  }\n}(window));"
     },
     "metadata": {},
     "output_type": "display_data"
    },
    {
     "data": {
      "text/html": [
       "\n",
       "\n",
       "\n",
       "\n",
       "\n",
       "\n",
       "  <div class=\"bk-root\" id=\"bac221a9-ba04-4f78-b86e-fc23c8f1dda6\" data-root-id=\"8140\"></div>\n"
      ]
     },
     "metadata": {},
     "output_type": "display_data"
    },
    {
     "data": {
      "application/javascript": [
       "(function(root) {\n",
       "  function embed_document(root) {\n",
       "    \n",
       "  var docs_json = {\"f0e9f94a-a6fa-432e-82a8-8e92b84ee8db\":{\"roots\":{\"references\":[{\"attributes\":{\"below\":[{\"id\":\"8151\",\"type\":\"LinearAxis\"}],\"center\":[{\"id\":\"8155\",\"type\":\"Grid\"},{\"id\":\"8160\",\"type\":\"Grid\"},{\"id\":\"8185\",\"type\":\"Legend\"}],\"left\":[{\"id\":\"8156\",\"type\":\"LinearAxis\"}],\"plot_height\":400,\"plot_width\":800,\"renderers\":[{\"id\":\"8177\",\"type\":\"GlyphRenderer\"},{\"id\":\"8190\",\"type\":\"GlyphRenderer\"}],\"title\":{\"id\":\"8141\",\"type\":\"Title\"},\"toolbar\":{\"id\":\"8167\",\"type\":\"Toolbar\"},\"x_range\":{\"id\":\"8143\",\"type\":\"DataRange1d\"},\"x_scale\":{\"id\":\"8147\",\"type\":\"LinearScale\"},\"y_range\":{\"id\":\"8145\",\"type\":\"DataRange1d\"},\"y_scale\":{\"id\":\"8149\",\"type\":\"LinearScale\"}},\"id\":\"8140\",\"subtype\":\"Figure\",\"type\":\"Plot\"},{\"attributes\":{\"text\":\"Mean Squared Error vs Number of samples\"},\"id\":\"8141\",\"type\":\"Title\"},{\"attributes\":{\"data_source\":{\"id\":\"8174\",\"type\":\"ColumnDataSource\"},\"glyph\":{\"id\":\"8175\",\"type\":\"Line\"},\"hover_glyph\":null,\"muted_glyph\":null,\"nonselection_glyph\":{\"id\":\"8176\",\"type\":\"Line\"},\"selection_glyph\":null,\"view\":{\"id\":\"8178\",\"type\":\"CDSView\"}},\"id\":\"8177\",\"type\":\"GlyphRenderer\"},{\"attributes\":{},\"id\":\"8181\",\"type\":\"BasicTickFormatter\"},{\"attributes\":{},\"id\":\"8164\",\"type\":\"SaveTool\"},{\"attributes\":{\"source\":{\"id\":\"8174\",\"type\":\"ColumnDataSource\"}},\"id\":\"8178\",\"type\":\"CDSView\"},{\"attributes\":{},\"id\":\"8183\",\"type\":\"BasicTickFormatter\"},{\"attributes\":{},\"id\":\"8487\",\"type\":\"UnionRenderers\"},{\"attributes\":{\"axis_label\":\"MSE\",\"formatter\":{\"id\":\"8181\",\"type\":\"BasicTickFormatter\"},\"ticker\":{\"id\":\"8157\",\"type\":\"BasicTicker\"}},\"id\":\"8156\",\"type\":\"LinearAxis\"},{\"attributes\":{\"bottom_units\":\"screen\",\"fill_alpha\":{\"value\":0.5},\"fill_color\":{\"value\":\"lightgrey\"},\"left_units\":\"screen\",\"level\":\"overlay\",\"line_alpha\":{\"value\":1.0},\"line_color\":{\"value\":\"black\"},\"line_dash\":[4,4],\"line_width\":{\"value\":2},\"render_mode\":\"css\",\"right_units\":\"screen\",\"top_units\":\"screen\"},\"id\":\"8184\",\"type\":\"BoxAnnotation\"},{\"attributes\":{},\"id\":\"8166\",\"type\":\"HelpTool\"},{\"attributes\":{},\"id\":\"8199\",\"type\":\"Selection\"},{\"attributes\":{\"overlay\":{\"id\":\"8184\",\"type\":\"BoxAnnotation\"}},\"id\":\"8163\",\"type\":\"BoxZoomTool\"},{\"attributes\":{\"items\":[{\"id\":\"8186\",\"type\":\"LegendItem\"},{\"id\":\"8200\",\"type\":\"LegendItem\"}]},\"id\":\"8185\",\"type\":\"Legend\"},{\"attributes\":{\"callback\":null},\"id\":\"8143\",\"type\":\"DataRange1d\"},{\"attributes\":{},\"id\":\"8149\",\"type\":\"LinearScale\"},{\"attributes\":{\"callback\":null,\"data\":{\"x\":[0,1,2,3,4,5,6,7,8,9,10,11,12,13,14,15,16,17,18,19,20,21,22,23,24,25,26,27,28,29,30,31,32,33,34,35,36,37,38,39,40,41,42,43,44,45,46,47,48,49,50,51,52,53,54,55,56,57,58,59,60,61,62,63,64,65,66,67,68,69,70,71,72,73,74,75,76,77,78,79,80,81,82,83,84,85,86,87,88,89,90,91,92,93,94,95,96,97,98,99,100,101,102,103,104,105,106,107,108,109,110,111,112,113,114,115,116,117,118,119,120,121,122,123,124,125,126,127,128,129,130,131,132,133,134,135,136,137,138,139,140,141,142,143,144,145,146,147,148,149,150,151,152,153,154,155,156,157,158,159,160,161,162,163,164,165,166,167,168,169,170,171,172,173,174,175,176,177,178,179,180,181,182,183,184,185,186,187,188,189,190,191,192,193,194,195,196,197,198,199,200,201,202,203,204,205,206,207,208,209,210,211,212,213,214,215,216,217,218,219,220,221,222,223,224,225,226,227,228,229,230,231,232,233,234,235,236,237,238,239,240,241,242,243,244,245,246,247,248,249,250,251,252,253,254,255,256,257,258,259,260,261,262,263,264,265,266,267,268,269,270,271,272,273,274,275,276,277,278,279,280,281,282,283,284,285,286,287,288,289,290,291,292,293,294,295,296,297,298,299,300,301,302,303,304,305,306,307,308,309,310,311,312,313,314,315,316,317,318,319,320,321,322,323,324,325,326,327,328,329,330,331,332,333,334,335,336,337,338,339,340,341,342,343,344,345,346,347,348,349,350,351,352,353,354,355,356,357,358,359,360,361,362,363,364,365,366,367,368,369,370,371,372,373,374,375,376,377,378,379,380,381,382,383,384,385,386,387,388,389,390,391,392,393,394,395,396,397,398,399,400,401,402,403,404,405,406,407,408,409,410,411,412,413,414,415,416,417,418,419,420,421,422,423,424,425,426,427,428,429,430,431,432,433,434,435,436,437,438,439,440,441,442,443,444,445,446,447,448,449,450,451,452,453,454,455,456,457,458,459,460,461,462,463,464,465,466,467,468,469],\"y\":{\"__ndarray__\":\"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\",\"dtype\":\"float64\",\"shape\":[470]}},\"selected\":{\"id\":\"8488\",\"type\":\"Selection\"},\"selection_policy\":{\"id\":\"8487\",\"type\":\"UnionRenderers\"}},\"id\":\"8187\",\"type\":\"ColumnDataSource\"},{\"attributes\":{\"active_drag\":\"auto\",\"active_inspect\":\"auto\",\"active_multi\":null,\"active_scroll\":\"auto\",\"active_tap\":\"auto\",\"tools\":[{\"id\":\"8161\",\"type\":\"PanTool\"},{\"id\":\"8162\",\"type\":\"WheelZoomTool\"},{\"id\":\"8163\",\"type\":\"BoxZoomTool\"},{\"id\":\"8164\",\"type\":\"SaveTool\"},{\"id\":\"8165\",\"type\":\"ResetTool\"},{\"id\":\"8166\",\"type\":\"HelpTool\"}]},\"id\":\"8167\",\"type\":\"Toolbar\"},{\"attributes\":{},\"id\":\"8161\",\"type\":\"PanTool\"},{\"attributes\":{\"callback\":null},\"id\":\"8145\",\"type\":\"DataRange1d\"},{\"attributes\":{\"ticker\":{\"id\":\"8152\",\"type\":\"BasicTicker\"}},\"id\":\"8155\",\"type\":\"Grid\"},{\"attributes\":{\"label\":{\"value\":\"MSE for supervised learning\"},\"renderers\":[{\"id\":\"8177\",\"type\":\"GlyphRenderer\"}]},\"id\":\"8186\",\"type\":\"LegendItem\"},{\"attributes\":{},\"id\":\"8157\",\"type\":\"BasicTicker\"},{\"attributes\":{},\"id\":\"8147\",\"type\":\"LinearScale\"},{\"attributes\":{\"axis_label\":\"Number of iterations\",\"formatter\":{\"id\":\"8183\",\"type\":\"BasicTickFormatter\"},\"ticker\":{\"id\":\"8152\",\"type\":\"BasicTicker\"}},\"id\":\"8151\",\"type\":\"LinearAxis\"},{\"attributes\":{},\"id\":\"8152\",\"type\":\"BasicTicker\"},{\"attributes\":{},\"id\":\"8198\",\"type\":\"UnionRenderers\"},{\"attributes\":{\"source\":{\"id\":\"8187\",\"type\":\"ColumnDataSource\"}},\"id\":\"8191\",\"type\":\"CDSView\"},{\"attributes\":{\"data_source\":{\"id\":\"8187\",\"type\":\"ColumnDataSource\"},\"glyph\":{\"id\":\"8188\",\"type\":\"Line\"},\"hover_glyph\":null,\"muted_glyph\":null,\"nonselection_glyph\":{\"id\":\"8189\",\"type\":\"Line\"},\"selection_glyph\":null,\"view\":{\"id\":\"8191\",\"type\":\"CDSView\"}},\"id\":\"8190\",\"type\":\"GlyphRenderer\"},{\"attributes\":{\"callback\":null,\"data\":{\"x\":[0,1,2,3,4,5,6,7,8,9,10,11,12,13,14,15,16,17,18,19,20,21,22,23,24,25,26,27,28,29,30,31,32,33,34,35,36,37,38,39,40,41,42,43,44,45,46,47,48,49,50,51,52,53,54,55,56,57,58,59,60,61,62,63,64,65,66,67,68,69,70,71,72,73,74,75,76,77,78,79,80,81,82,83,84,85,86,87,88,89,90,91,92,93,94,95,96,97,98,99,100,101,102,103,104,105,106,107,108,109,110,111,112,113,114,115,116,117,118,119,120,121,122,123,124,125,126,127,128,129,130,131,132,133,134,135,136,137,138,139,140,141,142,143,144,145,146,147,148,149,150,151,152,153,154,155,156,157,158,159,160,161,162,163,164,165,166,167,168,169,170,171,172,173,174,175,176,177,178,179,180,181,182,183,184,185,186,187,188,189,190,191,192,193,194,195,196,197,198,199,200,201,202,203,204,205,206,207,208,209,210,211,212,213,214,215,216,217,218,219,220,221,222,223,224,225,226,227,228,229,230,231,232,233,234,235,236,237,238,239,240,241,242,243,244,245,246,247,248,249,250,251,252,253,254,255,256,257,258,259,260,261,262,263,264,265,266,267,268,269,270,271,272,273,274,275,276,277,278,279,280,281,282,283,284,285,286,287,288,289,290,291,292,293,294,295,296,297,298,299,300,301,302,303,304,305,306,307,308,309,310,311,312,313,314,315,316,317,318,319,320,321,322,323,324,325,326,327,328,329,330,331,332,333,334,335,336,337,338,339,340,341,342,343,344,345,346,347,348,349,350,351,352,353,354,355,356,357,358,359,360,361,362,363,364,365,366,367,368,369,370,371,372,373,374,375,376,377,378,379,380,381,382,383,384,385,386,387,388,389,390,391,392,393,394,395,396,397,398,399,400,401,402,403,404,405,406,407,408,409,410,411,412,413,414,415,416,417,418,419,420,421,422,423,424,425,426,427,428,429,430,431,432,433,434,435,436,437,438,439,440,441,442,443,444,445,446,447,448,449,450,451,452,453,454,455,456,457,458,459,460,461,462,463,464,465,466,467,468,469],\"y\":{\"__ndarray__\":\"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\",\"dtype\":\"float64\",\"shape\":[470]}},\"selected\":{\"id\":\"8199\",\"type\":\"Selection\"},\"selection_policy\":{\"id\":\"8198\",\"type\":\"UnionRenderers\"}},\"id\":\"8174\",\"type\":\"ColumnDataSource\"},{\"attributes\":{\"line_alpha\":0.1,\"line_color\":\"#1f77b4\",\"x\":{\"field\":\"x\"},\"y\":{\"field\":\"y\"}},\"id\":\"8189\",\"type\":\"Line\"},{\"attributes\":{},\"id\":\"8165\",\"type\":\"ResetTool\"},{\"attributes\":{\"line_color\":\"orange\",\"x\":{\"field\":\"x\"},\"y\":{\"field\":\"y\"}},\"id\":\"8188\",\"type\":\"Line\"},{\"attributes\":{\"label\":{\"value\":\"MSE for Active learning\"},\"renderers\":[{\"id\":\"8190\",\"type\":\"GlyphRenderer\"}]},\"id\":\"8200\",\"type\":\"LegendItem\"},{\"attributes\":{},\"id\":\"8162\",\"type\":\"WheelZoomTool\"},{\"attributes\":{\"line_alpha\":0.1,\"line_color\":\"#1f77b4\",\"x\":{\"field\":\"x\"},\"y\":{\"field\":\"y\"}},\"id\":\"8176\",\"type\":\"Line\"},{\"attributes\":{\"dimension\":1,\"ticker\":{\"id\":\"8157\",\"type\":\"BasicTicker\"}},\"id\":\"8160\",\"type\":\"Grid\"},{\"attributes\":{\"line_color\":\"blue\",\"x\":{\"field\":\"x\"},\"y\":{\"field\":\"y\"}},\"id\":\"8175\",\"type\":\"Line\"},{\"attributes\":{},\"id\":\"8488\",\"type\":\"Selection\"}],\"root_ids\":[\"8140\"]},\"title\":\"Bokeh Application\",\"version\":\"1.1.0\"}};\n",
       "  var render_items = [{\"docid\":\"f0e9f94a-a6fa-432e-82a8-8e92b84ee8db\",\"roots\":{\"8140\":\"bac221a9-ba04-4f78-b86e-fc23c8f1dda6\"}}];\n",
       "  root.Bokeh.embed.embed_items_notebook(docs_json, render_items);\n",
       "\n",
       "  }\n",
       "  if (root.Bokeh !== undefined) {\n",
       "    embed_document(root);\n",
       "  } else {\n",
       "    var attempts = 0;\n",
       "    var timer = setInterval(function(root) {\n",
       "      if (root.Bokeh !== undefined) {\n",
       "        embed_document(root);\n",
       "        clearInterval(timer);\n",
       "      }\n",
       "      attempts++;\n",
       "      if (attempts > 100) {\n",
       "        console.log(\"Bokeh: ERROR: Unable to run BokehJS code because BokehJS library is missing\");\n",
       "        clearInterval(timer);\n",
       "      }\n",
       "    }, 10, root)\n",
       "  }\n",
       "})(window);"
      ],
      "application/vnd.bokehjs_exec.v0+json": ""
     },
     "metadata": {
      "application/vnd.bokehjs_exec.v0+json": {
       "id": "8140"
      }
     },
     "output_type": "display_data"
    }
   ],
   "source": [
    "# AL_error = trials_.y_pred_AL - trials_.y_test_AL\n",
    "# AL_mean = AL_error.mean(axis=0).abs()\n",
    "\n",
    "# SUP_error = trials_.y_pred_SUP - trials_.y_test_SUP\n",
    "# SUP_mean = SUP_error.mean(axis=0).abs()\n",
    "\n",
    "\n",
    "\n",
    "title = \"Mean Squared Error vs Number of samples\"\n",
    "xlabel = \"Number of iterations\"\n",
    "ylabel = \"MSE\"\n",
    "list_ = [i for i in range(params[\"total_experiments\"]-params[\"init_samples\"])]\n",
    "\n",
    "plot_bokeh(df_AL.mean(axis=1).rolling(100).sum().values, df_SUP.mean(axis=1).rolling(100).sum().values, list_, title, xlabel, ylabel)\n"
   ]
  },
  {
   "cell_type": "code",
   "execution_count": 136,
   "metadata": {},
   "outputs": [
    {
     "data": {
      "text/html": [
       "\n",
       "    <div class=\"bk-root\">\n",
       "        <a href=\"https://bokeh.pydata.org\" target=\"_blank\" class=\"bk-logo bk-logo-small bk-logo-notebook\"></a>\n",
       "        <span id=\"8933\">Loading BokehJS ...</span>\n",
       "    </div>"
      ]
     },
     "metadata": {},
     "output_type": "display_data"
    },
    {
     "data": {
      "application/javascript": [
       "\n",
       "(function(root) {\n",
       "  function now() {\n",
       "    return new Date();\n",
       "  }\n",
       "\n",
       "  var force = true;\n",
       "\n",
       "  if (typeof root._bokeh_onload_callbacks === \"undefined\" || force === true) {\n",
       "    root._bokeh_onload_callbacks = [];\n",
       "    root._bokeh_is_loading = undefined;\n",
       "  }\n",
       "\n",
       "  var JS_MIME_TYPE = 'application/javascript';\n",
       "  var HTML_MIME_TYPE = 'text/html';\n",
       "  var EXEC_MIME_TYPE = 'application/vnd.bokehjs_exec.v0+json';\n",
       "  var CLASS_NAME = 'output_bokeh rendered_html';\n",
       "\n",
       "  /**\n",
       "   * Render data to the DOM node\n",
       "   */\n",
       "  function render(props, node) {\n",
       "    var script = document.createElement(\"script\");\n",
       "    node.appendChild(script);\n",
       "  }\n",
       "\n",
       "  /**\n",
       "   * Handle when an output is cleared or removed\n",
       "   */\n",
       "  function handleClearOutput(event, handle) {\n",
       "    var cell = handle.cell;\n",
       "\n",
       "    var id = cell.output_area._bokeh_element_id;\n",
       "    var server_id = cell.output_area._bokeh_server_id;\n",
       "    // Clean up Bokeh references\n",
       "    if (id != null && id in Bokeh.index) {\n",
       "      Bokeh.index[id].model.document.clear();\n",
       "      delete Bokeh.index[id];\n",
       "    }\n",
       "\n",
       "    if (server_id !== undefined) {\n",
       "      // Clean up Bokeh references\n",
       "      var cmd = \"from bokeh.io.state import curstate; print(curstate().uuid_to_server['\" + server_id + \"'].get_sessions()[0].document.roots[0]._id)\";\n",
       "      cell.notebook.kernel.execute(cmd, {\n",
       "        iopub: {\n",
       "          output: function(msg) {\n",
       "            var id = msg.content.text.trim();\n",
       "            if (id in Bokeh.index) {\n",
       "              Bokeh.index[id].model.document.clear();\n",
       "              delete Bokeh.index[id];\n",
       "            }\n",
       "          }\n",
       "        }\n",
       "      });\n",
       "      // Destroy server and session\n",
       "      var cmd = \"import bokeh.io.notebook as ion; ion.destroy_server('\" + server_id + \"')\";\n",
       "      cell.notebook.kernel.execute(cmd);\n",
       "    }\n",
       "  }\n",
       "\n",
       "  /**\n",
       "   * Handle when a new output is added\n",
       "   */\n",
       "  function handleAddOutput(event, handle) {\n",
       "    var output_area = handle.output_area;\n",
       "    var output = handle.output;\n",
       "\n",
       "    // limit handleAddOutput to display_data with EXEC_MIME_TYPE content only\n",
       "    if ((output.output_type != \"display_data\") || (!output.data.hasOwnProperty(EXEC_MIME_TYPE))) {\n",
       "      return\n",
       "    }\n",
       "\n",
       "    var toinsert = output_area.element.find(\".\" + CLASS_NAME.split(' ')[0]);\n",
       "\n",
       "    if (output.metadata[EXEC_MIME_TYPE][\"id\"] !== undefined) {\n",
       "      toinsert[toinsert.length - 1].firstChild.textContent = output.data[JS_MIME_TYPE];\n",
       "      // store reference to embed id on output_area\n",
       "      output_area._bokeh_element_id = output.metadata[EXEC_MIME_TYPE][\"id\"];\n",
       "    }\n",
       "    if (output.metadata[EXEC_MIME_TYPE][\"server_id\"] !== undefined) {\n",
       "      var bk_div = document.createElement(\"div\");\n",
       "      bk_div.innerHTML = output.data[HTML_MIME_TYPE];\n",
       "      var script_attrs = bk_div.children[0].attributes;\n",
       "      for (var i = 0; i < script_attrs.length; i++) {\n",
       "        toinsert[toinsert.length - 1].firstChild.setAttribute(script_attrs[i].name, script_attrs[i].value);\n",
       "      }\n",
       "      // store reference to server id on output_area\n",
       "      output_area._bokeh_server_id = output.metadata[EXEC_MIME_TYPE][\"server_id\"];\n",
       "    }\n",
       "  }\n",
       "\n",
       "  function register_renderer(events, OutputArea) {\n",
       "\n",
       "    function append_mime(data, metadata, element) {\n",
       "      // create a DOM node to render to\n",
       "      var toinsert = this.create_output_subarea(\n",
       "        metadata,\n",
       "        CLASS_NAME,\n",
       "        EXEC_MIME_TYPE\n",
       "      );\n",
       "      this.keyboard_manager.register_events(toinsert);\n",
       "      // Render to node\n",
       "      var props = {data: data, metadata: metadata[EXEC_MIME_TYPE]};\n",
       "      render(props, toinsert[toinsert.length - 1]);\n",
       "      element.append(toinsert);\n",
       "      return toinsert\n",
       "    }\n",
       "\n",
       "    /* Handle when an output is cleared or removed */\n",
       "    events.on('clear_output.CodeCell', handleClearOutput);\n",
       "    events.on('delete.Cell', handleClearOutput);\n",
       "\n",
       "    /* Handle when a new output is added */\n",
       "    events.on('output_added.OutputArea', handleAddOutput);\n",
       "\n",
       "    /**\n",
       "     * Register the mime type and append_mime function with output_area\n",
       "     */\n",
       "    OutputArea.prototype.register_mime_type(EXEC_MIME_TYPE, append_mime, {\n",
       "      /* Is output safe? */\n",
       "      safe: true,\n",
       "      /* Index of renderer in `output_area.display_order` */\n",
       "      index: 0\n",
       "    });\n",
       "  }\n",
       "\n",
       "  // register the mime type if in Jupyter Notebook environment and previously unregistered\n",
       "  if (root.Jupyter !== undefined) {\n",
       "    var events = require('base/js/events');\n",
       "    var OutputArea = require('notebook/js/outputarea').OutputArea;\n",
       "\n",
       "    if (OutputArea.prototype.mime_types().indexOf(EXEC_MIME_TYPE) == -1) {\n",
       "      register_renderer(events, OutputArea);\n",
       "    }\n",
       "  }\n",
       "\n",
       "  \n",
       "  if (typeof (root._bokeh_timeout) === \"undefined\" || force === true) {\n",
       "    root._bokeh_timeout = Date.now() + 5000;\n",
       "    root._bokeh_failed_load = false;\n",
       "  }\n",
       "\n",
       "  var NB_LOAD_WARNING = {'data': {'text/html':\n",
       "     \"<div style='background-color: #fdd'>\\n\"+\n",
       "     \"<p>\\n\"+\n",
       "     \"BokehJS does not appear to have successfully loaded. If loading BokehJS from CDN, this \\n\"+\n",
       "     \"may be due to a slow or bad network connection. Possible fixes:\\n\"+\n",
       "     \"</p>\\n\"+\n",
       "     \"<ul>\\n\"+\n",
       "     \"<li>re-rerun `output_notebook()` to attempt to load from CDN again, or</li>\\n\"+\n",
       "     \"<li>use INLINE resources instead, as so:</li>\\n\"+\n",
       "     \"</ul>\\n\"+\n",
       "     \"<code>\\n\"+\n",
       "     \"from bokeh.resources import INLINE\\n\"+\n",
       "     \"output_notebook(resources=INLINE)\\n\"+\n",
       "     \"</code>\\n\"+\n",
       "     \"</div>\"}};\n",
       "\n",
       "  function display_loaded() {\n",
       "    var el = document.getElementById(\"8933\");\n",
       "    if (el != null) {\n",
       "      el.textContent = \"BokehJS is loading...\";\n",
       "    }\n",
       "    if (root.Bokeh !== undefined) {\n",
       "      if (el != null) {\n",
       "        el.textContent = \"BokehJS \" + root.Bokeh.version + \" successfully loaded.\";\n",
       "      }\n",
       "    } else if (Date.now() < root._bokeh_timeout) {\n",
       "      setTimeout(display_loaded, 100)\n",
       "    }\n",
       "  }\n",
       "\n",
       "\n",
       "  function run_callbacks() {\n",
       "    try {\n",
       "      root._bokeh_onload_callbacks.forEach(function(callback) {\n",
       "        if (callback != null)\n",
       "          callback();\n",
       "      });\n",
       "    } finally {\n",
       "      delete root._bokeh_onload_callbacks\n",
       "    }\n",
       "    console.debug(\"Bokeh: all callbacks have finished\");\n",
       "  }\n",
       "\n",
       "  function load_libs(css_urls, js_urls, callback) {\n",
       "    if (css_urls == null) css_urls = [];\n",
       "    if (js_urls == null) js_urls = [];\n",
       "\n",
       "    root._bokeh_onload_callbacks.push(callback);\n",
       "    if (root._bokeh_is_loading > 0) {\n",
       "      console.debug(\"Bokeh: BokehJS is being loaded, scheduling callback at\", now());\n",
       "      return null;\n",
       "    }\n",
       "    if (js_urls == null || js_urls.length === 0) {\n",
       "      run_callbacks();\n",
       "      return null;\n",
       "    }\n",
       "    console.debug(\"Bokeh: BokehJS not loaded, scheduling load and callback at\", now());\n",
       "    root._bokeh_is_loading = css_urls.length + js_urls.length;\n",
       "\n",
       "    function on_load() {\n",
       "      root._bokeh_is_loading--;\n",
       "      if (root._bokeh_is_loading === 0) {\n",
       "        console.debug(\"Bokeh: all BokehJS libraries/stylesheets loaded\");\n",
       "        run_callbacks()\n",
       "      }\n",
       "    }\n",
       "\n",
       "    function on_error() {\n",
       "      console.error(\"failed to load \" + url);\n",
       "    }\n",
       "\n",
       "    for (var i = 0; i < css_urls.length; i++) {\n",
       "      var url = css_urls[i];\n",
       "      const element = document.createElement(\"link\");\n",
       "      element.onload = on_load;\n",
       "      element.onerror = on_error;\n",
       "      element.rel = \"stylesheet\";\n",
       "      element.type = \"text/css\";\n",
       "      element.href = url;\n",
       "      console.debug(\"Bokeh: injecting link tag for BokehJS stylesheet: \", url);\n",
       "      document.body.appendChild(element);\n",
       "    }\n",
       "\n",
       "    for (var i = 0; i < js_urls.length; i++) {\n",
       "      var url = js_urls[i];\n",
       "      var element = document.createElement('script');\n",
       "      element.onload = on_load;\n",
       "      element.onerror = on_error;\n",
       "      element.async = false;\n",
       "      element.src = url;\n",
       "      console.debug(\"Bokeh: injecting script tag for BokehJS library: \", url);\n",
       "      document.head.appendChild(element);\n",
       "    }\n",
       "  };var element = document.getElementById(\"8933\");\n",
       "  if (element == null) {\n",
       "    console.error(\"Bokeh: ERROR: autoload.js configured with elementid '8933' but no matching script tag was found. \")\n",
       "    return false;\n",
       "  }\n",
       "\n",
       "  function inject_raw_css(css) {\n",
       "    const element = document.createElement(\"style\");\n",
       "    element.appendChild(document.createTextNode(css));\n",
       "    document.body.appendChild(element);\n",
       "  }\n",
       "\n",
       "  var js_urls = [\"https://cdn.pydata.org/bokeh/release/bokeh-1.1.0.min.js\", \"https://cdn.pydata.org/bokeh/release/bokeh-widgets-1.1.0.min.js\", \"https://cdn.pydata.org/bokeh/release/bokeh-tables-1.1.0.min.js\", \"https://cdn.pydata.org/bokeh/release/bokeh-gl-1.1.0.min.js\"];\n",
       "  var css_urls = [\"https://cdn.pydata.org/bokeh/release/bokeh-1.1.0.min.css\", \"https://cdn.pydata.org/bokeh/release/bokeh-widgets-1.1.0.min.css\", \"https://cdn.pydata.org/bokeh/release/bokeh-tables-1.1.0.min.css\"];\n",
       "\n",
       "  var inline_js = [\n",
       "    function(Bokeh) {\n",
       "      Bokeh.set_log_level(\"info\");\n",
       "    },\n",
       "    \n",
       "    function(Bokeh) {\n",
       "      \n",
       "    },\n",
       "    function(Bokeh) {} // ensure no trailing comma for IE\n",
       "  ];\n",
       "\n",
       "  function run_inline_js() {\n",
       "    \n",
       "    if ((root.Bokeh !== undefined) || (force === true)) {\n",
       "      for (var i = 0; i < inline_js.length; i++) {\n",
       "        inline_js[i].call(root, root.Bokeh);\n",
       "      }if (force === true) {\n",
       "        display_loaded();\n",
       "      }} else if (Date.now() < root._bokeh_timeout) {\n",
       "      setTimeout(run_inline_js, 100);\n",
       "    } else if (!root._bokeh_failed_load) {\n",
       "      console.log(\"Bokeh: BokehJS failed to load within specified timeout.\");\n",
       "      root._bokeh_failed_load = true;\n",
       "    } else if (force !== true) {\n",
       "      var cell = $(document.getElementById(\"8933\")).parents('.cell').data().cell;\n",
       "      cell.output_area.append_execute_result(NB_LOAD_WARNING)\n",
       "    }\n",
       "\n",
       "  }\n",
       "\n",
       "  if (root._bokeh_is_loading === 0) {\n",
       "    console.debug(\"Bokeh: BokehJS loaded, going straight to plotting\");\n",
       "    run_inline_js();\n",
       "  } else {\n",
       "    load_libs(css_urls, js_urls, function() {\n",
       "      console.debug(\"Bokeh: BokehJS plotting callback run at\", now());\n",
       "      run_inline_js();\n",
       "    });\n",
       "  }\n",
       "}(window));"
      ],
      "application/vnd.bokehjs_load.v0+json": "\n(function(root) {\n  function now() {\n    return new Date();\n  }\n\n  var force = true;\n\n  if (typeof root._bokeh_onload_callbacks === \"undefined\" || force === true) {\n    root._bokeh_onload_callbacks = [];\n    root._bokeh_is_loading = undefined;\n  }\n\n  \n\n  \n  if (typeof (root._bokeh_timeout) === \"undefined\" || force === true) {\n    root._bokeh_timeout = Date.now() + 5000;\n    root._bokeh_failed_load = false;\n  }\n\n  var NB_LOAD_WARNING = {'data': {'text/html':\n     \"<div style='background-color: #fdd'>\\n\"+\n     \"<p>\\n\"+\n     \"BokehJS does not appear to have successfully loaded. If loading BokehJS from CDN, this \\n\"+\n     \"may be due to a slow or bad network connection. Possible fixes:\\n\"+\n     \"</p>\\n\"+\n     \"<ul>\\n\"+\n     \"<li>re-rerun `output_notebook()` to attempt to load from CDN again, or</li>\\n\"+\n     \"<li>use INLINE resources instead, as so:</li>\\n\"+\n     \"</ul>\\n\"+\n     \"<code>\\n\"+\n     \"from bokeh.resources import INLINE\\n\"+\n     \"output_notebook(resources=INLINE)\\n\"+\n     \"</code>\\n\"+\n     \"</div>\"}};\n\n  function display_loaded() {\n    var el = document.getElementById(\"8933\");\n    if (el != null) {\n      el.textContent = \"BokehJS is loading...\";\n    }\n    if (root.Bokeh !== undefined) {\n      if (el != null) {\n        el.textContent = \"BokehJS \" + root.Bokeh.version + \" successfully loaded.\";\n      }\n    } else if (Date.now() < root._bokeh_timeout) {\n      setTimeout(display_loaded, 100)\n    }\n  }\n\n\n  function run_callbacks() {\n    try {\n      root._bokeh_onload_callbacks.forEach(function(callback) {\n        if (callback != null)\n          callback();\n      });\n    } finally {\n      delete root._bokeh_onload_callbacks\n    }\n    console.debug(\"Bokeh: all callbacks have finished\");\n  }\n\n  function load_libs(css_urls, js_urls, callback) {\n    if (css_urls == null) css_urls = [];\n    if (js_urls == null) js_urls = [];\n\n    root._bokeh_onload_callbacks.push(callback);\n    if (root._bokeh_is_loading > 0) {\n      console.debug(\"Bokeh: BokehJS is being loaded, scheduling callback at\", now());\n      return null;\n    }\n    if (js_urls == null || js_urls.length === 0) {\n      run_callbacks();\n      return null;\n    }\n    console.debug(\"Bokeh: BokehJS not loaded, scheduling load and callback at\", now());\n    root._bokeh_is_loading = css_urls.length + js_urls.length;\n\n    function on_load() {\n      root._bokeh_is_loading--;\n      if (root._bokeh_is_loading === 0) {\n        console.debug(\"Bokeh: all BokehJS libraries/stylesheets loaded\");\n        run_callbacks()\n      }\n    }\n\n    function on_error() {\n      console.error(\"failed to load \" + url);\n    }\n\n    for (var i = 0; i < css_urls.length; i++) {\n      var url = css_urls[i];\n      const element = document.createElement(\"link\");\n      element.onload = on_load;\n      element.onerror = on_error;\n      element.rel = \"stylesheet\";\n      element.type = \"text/css\";\n      element.href = url;\n      console.debug(\"Bokeh: injecting link tag for BokehJS stylesheet: \", url);\n      document.body.appendChild(element);\n    }\n\n    for (var i = 0; i < js_urls.length; i++) {\n      var url = js_urls[i];\n      var element = document.createElement('script');\n      element.onload = on_load;\n      element.onerror = on_error;\n      element.async = false;\n      element.src = url;\n      console.debug(\"Bokeh: injecting script tag for BokehJS library: \", url);\n      document.head.appendChild(element);\n    }\n  };var element = document.getElementById(\"8933\");\n  if (element == null) {\n    console.error(\"Bokeh: ERROR: autoload.js configured with elementid '8933' but no matching script tag was found. \")\n    return false;\n  }\n\n  function inject_raw_css(css) {\n    const element = document.createElement(\"style\");\n    element.appendChild(document.createTextNode(css));\n    document.body.appendChild(element);\n  }\n\n  var js_urls = [\"https://cdn.pydata.org/bokeh/release/bokeh-1.1.0.min.js\", \"https://cdn.pydata.org/bokeh/release/bokeh-widgets-1.1.0.min.js\", \"https://cdn.pydata.org/bokeh/release/bokeh-tables-1.1.0.min.js\", \"https://cdn.pydata.org/bokeh/release/bokeh-gl-1.1.0.min.js\"];\n  var css_urls = [\"https://cdn.pydata.org/bokeh/release/bokeh-1.1.0.min.css\", \"https://cdn.pydata.org/bokeh/release/bokeh-widgets-1.1.0.min.css\", \"https://cdn.pydata.org/bokeh/release/bokeh-tables-1.1.0.min.css\"];\n\n  var inline_js = [\n    function(Bokeh) {\n      Bokeh.set_log_level(\"info\");\n    },\n    \n    function(Bokeh) {\n      \n    },\n    function(Bokeh) {} // ensure no trailing comma for IE\n  ];\n\n  function run_inline_js() {\n    \n    if ((root.Bokeh !== undefined) || (force === true)) {\n      for (var i = 0; i < inline_js.length; i++) {\n        inline_js[i].call(root, root.Bokeh);\n      }if (force === true) {\n        display_loaded();\n      }} else if (Date.now() < root._bokeh_timeout) {\n      setTimeout(run_inline_js, 100);\n    } else if (!root._bokeh_failed_load) {\n      console.log(\"Bokeh: BokehJS failed to load within specified timeout.\");\n      root._bokeh_failed_load = true;\n    } else if (force !== true) {\n      var cell = $(document.getElementById(\"8933\")).parents('.cell').data().cell;\n      cell.output_area.append_execute_result(NB_LOAD_WARNING)\n    }\n\n  }\n\n  if (root._bokeh_is_loading === 0) {\n    console.debug(\"Bokeh: BokehJS loaded, going straight to plotting\");\n    run_inline_js();\n  } else {\n    load_libs(css_urls, js_urls, function() {\n      console.debug(\"Bokeh: BokehJS plotting callback run at\", now());\n      run_inline_js();\n    });\n  }\n}(window));"
     },
     "metadata": {},
     "output_type": "display_data"
    },
    {
     "data": {
      "text/html": [
       "\n",
       "\n",
       "\n",
       "\n",
       "\n",
       "\n",
       "  <div class=\"bk-root\" id=\"7dbef59e-224e-4046-98f6-d8c1752f1e1e\" data-root-id=\"8934\"></div>\n"
      ]
     },
     "metadata": {},
     "output_type": "display_data"
    },
    {
     "data": {
      "application/javascript": [
       "(function(root) {\n",
       "  function embed_document(root) {\n",
       "    \n",
       "  var docs_json = {\"5920c167-24c5-48ba-ac99-fb4108866500\":{\"roots\":{\"references\":[{\"attributes\":{\"below\":[{\"id\":\"8943\",\"type\":\"LinearAxis\"}],\"center\":[{\"id\":\"8947\",\"type\":\"Grid\"},{\"id\":\"8952\",\"type\":\"Grid\"}],\"left\":[{\"id\":\"8948\",\"type\":\"LinearAxis\"}],\"plot_height\":400,\"plot_width\":800,\"renderers\":[{\"id\":\"8969\",\"type\":\"GlyphRenderer\"},{\"id\":\"8974\",\"type\":\"GlyphRenderer\"}],\"title\":{\"id\":\"9273\",\"type\":\"Title\"},\"toolbar\":{\"id\":\"8959\",\"type\":\"Toolbar\"},\"x_range\":{\"id\":\"8935\",\"type\":\"DataRange1d\"},\"x_scale\":{\"id\":\"8939\",\"type\":\"LinearScale\"},\"y_range\":{\"id\":\"8937\",\"type\":\"DataRange1d\"},\"y_scale\":{\"id\":\"8941\",\"type\":\"LinearScale\"}},\"id\":\"8934\",\"subtype\":\"Figure\",\"type\":\"Plot\"},{\"attributes\":{\"bottom_units\":\"screen\",\"fill_alpha\":{\"value\":0.5},\"fill_color\":{\"value\":\"lightgrey\"},\"left_units\":\"screen\",\"level\":\"overlay\",\"line_alpha\":{\"value\":1.0},\"line_color\":{\"value\":\"black\"},\"line_dash\":[4,4],\"line_width\":{\"value\":2},\"render_mode\":\"css\",\"right_units\":\"screen\",\"top_units\":\"screen\"},\"id\":\"9278\",\"type\":\"BoxAnnotation\"},{\"attributes\":{},\"id\":\"8954\",\"type\":\"WheelZoomTool\"},{\"attributes\":{\"text\":\"\"},\"id\":\"9273\",\"type\":\"Title\"},{\"attributes\":{\"source\":{\"id\":\"8966\",\"type\":\"ColumnDataSource\"}},\"id\":\"8970\",\"type\":\"CDSView\"},{\"attributes\":{},\"id\":\"8941\",\"type\":\"LinearScale\"},{\"attributes\":{},\"id\":\"9277\",\"type\":\"BasicTickFormatter\"},{\"attributes\":{},\"id\":\"8949\",\"type\":\"BasicTicker\"},{\"attributes\":{\"source\":{\"id\":\"8971\",\"type\":\"ColumnDataSource\"}},\"id\":\"8975\",\"type\":\"CDSView\"},{\"attributes\":{},\"id\":\"8953\",\"type\":\"PanTool\"},{\"attributes\":{\"callback\":null,\"data\":{\"x\":[0,1,2,3,4,5,6,7,8,9,10,11,12,13,14,15,16,17,18,19,20,21,22,23,24,25,26,27,28,29,30,31,32,33,34,35,36,37,38,39,40,41,42,43,44,45,46,47],\"y\":{\"__ndarray__\":\"SHvZad9Ywj9S7aEMXCjCPy6L+ivolL4/RJ0t6VE9vj9kwyOvIDS7P5I3F5rkJrs/SdqTnb6luj8vUxonWbm6P2wMkeaODbs/muUA+GMduz8F1o1DTWW+P2uw71yP0r4/DcYDKo9zwz/c3kYh0abDP0B3tqY2E8g/7w0grYgRyD+IIV0KUQbKP+1ql9h0uck/7PvfEUiHyj/BWX4dEkXKP3RLaPnFfco/FoE8rLI7yj/BlUfmlk3KP2ma+Um5Rso/hpJQFfs9yj/qLOmGjjLKP+wiU4Ad98k/lSA6cQrgyT+vsBw5ycXJP0h6hNdP18k/0Grq7YL0yT8642VfEwHKP8ti7Vl4Qsw/dC7oMEB1zD9X0VDSWdnOP3vj9GC/QM8/o4cjMCYN0D+sXsFUTSjQP3xVYjvLY9A/QN8N7zGn0D8rcerL8i7RPyBAFIW6WNE/dBQopW830T987ZltXT3RP1sNVMy1Ws4/ronYtAJIzj8my/u5iHnHP/3dPON3QMc/\",\"dtype\":\"float64\",\"shape\":[48]}},\"selected\":{\"id\":\"9282\",\"type\":\"Selection\"},\"selection_policy\":{\"id\":\"9281\",\"type\":\"UnionRenderers\"}},\"id\":\"8971\",\"type\":\"ColumnDataSource\"},{\"attributes\":{\"active_drag\":\"auto\",\"active_inspect\":\"auto\",\"active_multi\":null,\"active_scroll\":\"auto\",\"active_tap\":\"auto\",\"tools\":[{\"id\":\"8953\",\"type\":\"PanTool\"},{\"id\":\"8954\",\"type\":\"WheelZoomTool\"},{\"id\":\"8955\",\"type\":\"BoxZoomTool\"},{\"id\":\"8956\",\"type\":\"SaveTool\"},{\"id\":\"8957\",\"type\":\"ResetTool\"},{\"id\":\"8958\",\"type\":\"HelpTool\"}]},\"id\":\"8959\",\"type\":\"Toolbar\"},{\"attributes\":{},\"id\":\"8944\",\"type\":\"BasicTicker\"},{\"attributes\":{\"ticker\":{\"id\":\"8944\",\"type\":\"BasicTicker\"}},\"id\":\"8947\",\"type\":\"Grid\"},{\"attributes\":{\"axis_label\":\"energy consumption\",\"formatter\":{\"id\":\"9275\",\"type\":\"BasicTickFormatter\"},\"ticker\":{\"id\":\"8949\",\"type\":\"BasicTicker\"}},\"id\":\"8948\",\"type\":\"LinearAxis\"},{\"attributes\":{\"line_alpha\":0.1,\"line_color\":\"#1f77b4\",\"x\":{\"field\":\"x\"},\"y\":{\"field\":\"y\"}},\"id\":\"8968\",\"type\":\"Line\"},{\"attributes\":{},\"id\":\"9281\",\"type\":\"UnionRenderers\"},{\"attributes\":{},\"id\":\"8956\",\"type\":\"SaveTool\"},{\"attributes\":{\"data_source\":{\"id\":\"8966\",\"type\":\"ColumnDataSource\"},\"glyph\":{\"id\":\"8967\",\"type\":\"Line\"},\"hover_glyph\":null,\"muted_glyph\":null,\"nonselection_glyph\":{\"id\":\"8968\",\"type\":\"Line\"},\"selection_glyph\":null,\"view\":{\"id\":\"8970\",\"type\":\"CDSView\"}},\"id\":\"8969\",\"type\":\"GlyphRenderer\"},{\"attributes\":{\"line_alpha\":0.1,\"line_color\":\"#1f77b4\",\"x\":{\"field\":\"x\"},\"y\":{\"field\":\"y\"}},\"id\":\"8973\",\"type\":\"Line\"},{\"attributes\":{},\"id\":\"9280\",\"type\":\"Selection\"},{\"attributes\":{},\"id\":\"8958\",\"type\":\"HelpTool\"},{\"attributes\":{\"line_color\":\"orange\",\"x\":{\"field\":\"x\"},\"y\":{\"field\":\"y\"}},\"id\":\"8972\",\"type\":\"Line\"},{\"attributes\":{},\"id\":\"9275\",\"type\":\"BasicTickFormatter\"},{\"attributes\":{},\"id\":\"8939\",\"type\":\"LinearScale\"},{\"attributes\":{\"overlay\":{\"id\":\"9278\",\"type\":\"BoxAnnotation\"}},\"id\":\"8955\",\"type\":\"BoxZoomTool\"},{\"attributes\":{\"line_color\":\"blue\",\"x\":{\"field\":\"x\"},\"y\":{\"field\":\"y\"}},\"id\":\"8967\",\"type\":\"Line\"},{\"attributes\":{},\"id\":\"9282\",\"type\":\"Selection\"},{\"attributes\":{},\"id\":\"8957\",\"type\":\"ResetTool\"},{\"attributes\":{\"data_source\":{\"id\":\"8971\",\"type\":\"ColumnDataSource\"},\"glyph\":{\"id\":\"8972\",\"type\":\"Line\"},\"hover_glyph\":null,\"muted_glyph\":null,\"nonselection_glyph\":{\"id\":\"8973\",\"type\":\"Line\"},\"selection_glyph\":null,\"view\":{\"id\":\"8975\",\"type\":\"CDSView\"}},\"id\":\"8974\",\"type\":\"GlyphRenderer\"},{\"attributes\":{\"callback\":null},\"id\":\"8935\",\"type\":\"DataRange1d\"},{\"attributes\":{\"callback\":null},\"id\":\"8937\",\"type\":\"DataRange1d\"},{\"attributes\":{\"axis_label\":\"time slot of day\",\"formatter\":{\"id\":\"9277\",\"type\":\"BasicTickFormatter\"},\"ticker\":{\"id\":\"8944\",\"type\":\"BasicTicker\"}},\"id\":\"8943\",\"type\":\"LinearAxis\"},{\"attributes\":{},\"id\":\"9279\",\"type\":\"UnionRenderers\"},{\"attributes\":{\"callback\":null,\"data\":{\"x\":[0,1,2,3,4,5,6,7,8,9,10,11,12,13,14,15,16,17,18,19,20,21,22,23,24,25,26,27,28,29,30,31,32,33,34,35,36,37,38,39,40,41,42,43,44,45,46,47],\"y\":{\"__ndarray__\":\"KUvO25z+wj+cnKBVThfBP3Db18XCR78/HBBVlTUfvT8pr1DDSN67PzxmXpeC7bo/hFmWo+xDuj9orGxe2Cy6P95rLu7fT7o/ro7ZeOeCuz/O1tf34069PwWKgf8HaMA/y/byHcK3wj8JlT1Z7QrFP6yNZ5KPz8Y/HKV0c9mTyD81R9qlXw3JPyATxIFOs8k/rdTTU8QIyj/xh3kKuh/KP95mnpwbKMo/VRFQYxv1yT9XOUPh+TTKP9q2Qi97nMo/7Df2TpWmyj8IUmgakrjKP9DaXuicT8o/bAztvLPFyT+C3UyXRSzJP+dGdOmxTsk/Y3rp0lqiyT/Vj8rhqlrKP61aut6Qvcs/yXdiZMCQzT/lh/eaQVPPP1mS3cIS79A/6Y+fVCab0T8Fo91Low/SP3KyCocAVNI/4Kbvb12K0j98Nwxfx5LSPyUDcixTa9I/yA8EXPrf0T9XMIeasB7RPzAKpjm1JM8/d/tPuFXMyz8NsMHLLnHIP7CvCQ+QZsU/\",\"dtype\":\"float64\",\"shape\":[48]}},\"selected\":{\"id\":\"9280\",\"type\":\"Selection\"},\"selection_policy\":{\"id\":\"9279\",\"type\":\"UnionRenderers\"}},\"id\":\"8966\",\"type\":\"ColumnDataSource\"},{\"attributes\":{\"dimension\":1,\"ticker\":{\"id\":\"8949\",\"type\":\"BasicTicker\"}},\"id\":\"8952\",\"type\":\"Grid\"}],\"root_ids\":[\"8934\"]},\"title\":\"Bokeh Application\",\"version\":\"1.1.0\"}};\n",
       "  var render_items = [{\"docid\":\"5920c167-24c5-48ba-ac99-fb4108866500\",\"roots\":{\"8934\":\"7dbef59e-224e-4046-98f6-d8c1752f1e1e\"}}];\n",
       "  root.Bokeh.embed.embed_items_notebook(docs_json, render_items);\n",
       "\n",
       "  }\n",
       "  if (root.Bokeh !== undefined) {\n",
       "    embed_document(root);\n",
       "  } else {\n",
       "    var attempts = 0;\n",
       "    var timer = setInterval(function(root) {\n",
       "      if (root.Bokeh !== undefined) {\n",
       "        embed_document(root);\n",
       "        clearInterval(timer);\n",
       "      }\n",
       "      attempts++;\n",
       "      if (attempts > 100) {\n",
       "        console.log(\"Bokeh: ERROR: Unable to run BokehJS code because BokehJS library is missing\");\n",
       "        clearInterval(timer);\n",
       "      }\n",
       "    }, 10, root)\n",
       "  }\n",
       "})(window);"
      ],
      "application/vnd.bokehjs_exec.v0+json": ""
     },
     "metadata": {
      "application/vnd.bokehjs_exec.v0+json": {
       "id": "8934"
      }
     },
     "output_type": "display_data"
    }
   ],
   "source": [
    "output_notebook()\n",
    "# file_name = \"../temp/\" + title + \".html\"\n",
    "# output_file(file_name) #Uncom`ment it to save the plot in html file\n",
    "p=figure(plot_width=800, plot_height=400,  x_axis_label = \"time slot of day\", y_axis_label = \"energy consumption\",)\n",
    "p.line(trials_.y_pred_AL.index, trials_.y_test_AL.loc[:,\"iter1_exp50\":\"iter1_exp85\"].mean(axis=1).values, line_width=1, color='blue')\n",
    "p.line(trials_.y_pred_AL.index, trials_.y_pred_AL.loc[:,\"iter1_exp50\":\"iter1_exp85\"].mean(axis=1).values, line_width=1, color='orange')\n",
    "\n",
    "show(p)\n"
   ]
  },
  {
   "cell_type": "code",
   "execution_count": 126,
   "metadata": {},
   "outputs": [],
   "source": [
    "file_name = \"../results/SUP_errors\" + str(today) + \".csv\"\n",
    "df_SUP.to_csv(file_name, sep='\\t')\n",
    "\n",
    "file_name = \"../results/AL_errors\" + str(today) + \".csv\"\n",
    "df_AL.to_csv(file_name, sep='\\t')\n"
   ]
  }
 ],
 "metadata": {
  "kernelspec": {
   "display_name": "Python 3",
   "language": "python",
   "name": "python3"
  },
  "language_info": {
   "codemirror_mode": {
    "name": "ipython",
    "version": 3
   },
   "file_extension": ".py",
   "mimetype": "text/x-python",
   "name": "python",
   "nbconvert_exporter": "python",
   "pygments_lexer": "ipython3",
   "version": "3.7.3"
  }
 },
 "nbformat": 4,
 "nbformat_minor": 2
}
