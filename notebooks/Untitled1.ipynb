{
 "cells": [
  {
   "cell_type": "markdown",
   "metadata": {},
   "source": [
    "# Algorithm:\n",
    "- Get initial training samples\n",
    "- Train the model on user response\n",
    "- For given number of experiments:\n",
    "    - For 100 test days:\n",
    "        - Get next data for random day\n",
    "        - Get prediction variance\n",
    "        - if variance > *threshold*\n",
    "            - Predict tariff response\n",
    "        - else\n",
    "            - Predict baseline consumption\n",
    "        - Save the actuals and predictions\n",
    "        - Add current day data to previous data pool\n",
    "        "
   ]
  },
  {
   "cell_type": "markdown",
   "metadata": {},
   "source": [
    "Next steps:\n",
    "1. Characterize variation in parameters \n",
    "    - pre-training data size vs accuracy, \n",
    "    - pretraining data size vs number of samples, \n",
    "    - variance threshold(s) vs accuracy, \n",
    "    - accuracy vs number of labels\n",
    "2. Other active learning strategies \n",
    "    - query by committee, \n",
    "    - emerging threshold, \n",
    "    - without(?) threshold, \n",
    "    - greedy learning"
   ]
  },
  {
   "cell_type": "markdown",
   "metadata": {},
   "source": [
    "Machine learning methods, active learning concepts goes up\n",
    "\n",
    "Explain overall design before synthetic data generator\n",
    "\n",
    "Analysis - make sure people understand your work\n",
    "\n",
    "\n",
    "supervised vs unsupervised - do more analysis. what does it mean when model sees unseen tariff.\n",
    "\n",
    "plot 17-23 hours\n",
    "\n"
   ]
  }
 ],
 "metadata": {
  "kernelspec": {
   "display_name": "Python 3",
   "language": "python",
   "name": "python3"
  },
  "language_info": {
   "codemirror_mode": {
    "name": "ipython",
    "version": 3
   },
   "file_extension": ".py",
   "mimetype": "text/x-python",
   "name": "python",
   "nbconvert_exporter": "python",
   "pygments_lexer": "ipython3",
   "version": "3.7.3"
  }
 },
 "nbformat": 4,
 "nbformat_minor": 2
}
