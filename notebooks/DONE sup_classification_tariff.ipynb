{
 "cells": [
  {
   "cell_type": "markdown",
   "metadata": {},
   "source": [
    "## Supervised Classification of tariff instances\n",
    "\n",
    "The supervised classifiaction of different datapoints based on LCL data of 'd' and 'n' type consumers\n",
    "\n",
    "The naive XGBoost algorithm has accuracy of 89.36% "
   ]
  },
  {
   "cell_type": "code",
   "execution_count": 45,
   "metadata": {},
   "outputs": [],
   "source": [
    "# Load the required packages\n",
    "import time\n",
    "import psutil\n",
    "import numpy as np\n",
    "import pandas as pd\n",
    "import glob\n",
    "import multiprocessing as mp\n",
    "\n",
    "# For data visualizatoin\n",
    "import matplotlib.pyplot as plt\n",
    "from pandas.tools.plotting import autocorrelation_plot\n",
    "from bokeh.io import output_notebook, show\n",
    "from bokeh.models import Title\n",
    "from bokeh.plotting import figure, output_file, show\n",
    "\n",
    "from datetime import datetime, timedelta\n",
    "\n",
    "from sklearn import preprocessing\n",
    "from sklearn.model_selection import train_test_split\n",
    "from sklearn.metrics import mean_squared_error, mean_absolute_error\n",
    "from math import sqrt\n",
    "import xgboost as xgb\n"
   ]
  },
  {
   "cell_type": "code",
   "execution_count": 46,
   "metadata": {},
   "outputs": [],
   "source": [
    "df_=pd.read_csv('./mod_datasets/aggregate_consumption.csv', sep=',', header=0,index_col = 0)"
   ]
  },
  {
   "cell_type": "code",
   "execution_count": 47,
   "metadata": {},
   "outputs": [
    {
     "data": {
      "text/plain": [
       "trial_d    float64\n",
       "trial_n    float64\n",
       "tariff      object\n",
       "dtype: object"
      ]
     },
     "execution_count": 47,
     "metadata": {},
     "output_type": "execute_result"
    }
   ],
   "source": [
    "df_.tariff = df_.tariff.astype('str')\n",
    "df_.dtypes"
   ]
  },
  {
   "cell_type": "code",
   "execution_count": 48,
   "metadata": {},
   "outputs": [],
   "source": [
    "X_data = df_.drop('tariff', axis=1)\n",
    "y_labels = df_.tariff "
   ]
  },
  {
   "cell_type": "code",
   "execution_count": 49,
   "metadata": {},
   "outputs": [],
   "source": [
    "#Split the dataset into train and Test\n",
    "seed = 7\n",
    "test_size = 0.9\n",
    "X_train, X_test, y_train, y_test = train_test_split(X_data, y_labels, test_size=test_size, random_state=seed)"
   ]
  },
  {
   "cell_type": "code",
   "execution_count": 50,
   "metadata": {},
   "outputs": [],
   "source": [
    "model = xgb.XGBClassifier()\n",
    "\n",
    "xgb_model = model.fit(X_train, y_train)"
   ]
  },
  {
   "cell_type": "code",
   "execution_count": 51,
   "metadata": {},
   "outputs": [
    {
     "name": "stdout",
     "output_type": "stream",
     "text": [
      "Accuracy for model: 88.93\n"
     ]
    }
   ],
   "source": [
    "from sklearn.metrics import accuracy_score\n",
    "\n",
    "preds= xgb_model.predict(X_test)\n",
    "print(\"Accuracy for model: %.2f\" % (accuracy_score(y_test, preds) * 100))"
   ]
  }
 ],
 "metadata": {
  "kernelspec": {
   "display_name": "Python 3",
   "language": "python",
   "name": "python3"
  },
  "language_info": {
   "codemirror_mode": {
    "name": "ipython",
    "version": 3
   },
   "file_extension": ".py",
   "mimetype": "text/x-python",
   "name": "python",
   "nbconvert_exporter": "python",
   "pygments_lexer": "ipython3",
   "version": "3.7.3"
  }
 },
 "nbformat": 4,
 "nbformat_minor": 2
}
