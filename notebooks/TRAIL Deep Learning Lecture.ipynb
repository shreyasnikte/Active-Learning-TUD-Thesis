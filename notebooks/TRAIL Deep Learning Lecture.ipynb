{
 "cells": [
  {
   "cell_type": "markdown",
   "metadata": {},
   "source": [
    "# Deep Learning course\n",
    "---\n",
    "## Notes:\n",
    "### Need of Deep learning over Machine learning\n",
    "- Only useful when you dont know what to measure. If you know what to measure, you can have a clear path to possible convergence using machine learning\n",
    "\n",
    "- Deep learning models learn features, machine learning model does not care about features, but care about robust model\n",
    "\n",
    "- Therefore, deep learning models are task specific\n",
    "\n",
    "- Optimisation - The deep learning models need more optimization\n",
    "\n",
    "- Current research:\n",
    "    - Reduce annotation efforts (active learning, semi supervised)\n",
    "    - Interpretability\n",
    "    - Efficiency (computational)\n",
    "    - Security against adversarial attacks (wrong predictions)"
   ]
  }
 ],
 "metadata": {
  "kernelspec": {
   "display_name": "Python 3",
   "language": "python",
   "name": "python3"
  },
  "language_info": {
   "codemirror_mode": {
    "name": "ipython",
    "version": 3
   },
   "file_extension": ".py",
   "mimetype": "text/x-python",
   "name": "python",
   "nbconvert_exporter": "python",
   "pygments_lexer": "ipython3",
   "version": "3.7.3"
  }
 },
 "nbformat": 4,
 "nbformat_minor": 2
}
